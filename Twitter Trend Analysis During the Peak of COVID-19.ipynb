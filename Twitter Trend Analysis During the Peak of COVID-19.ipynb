{
 "cells": [
  {
   "cell_type": "markdown",
   "metadata": {
    "colab_type": "text",
    "id": "wdksn1NvYExs"
   },
   "source": [
    "# Twitter Trend Analysis During the Peak of COVID-19\n",
    "\n",
    "## Charity Miller\n",
    "\n",
    "Through research and analysis, we want to figure out the effects COVID-19 has had globally. Our goal is to dive deep into the use of coronavirus related hashtags, including their frequency of use, and how many times they have been used, and to analyze the impact of positive, negative, sentimental and neutral tweets on social media regarding COVID-19. We will also view the activity level of COVID-19 related tweets from the verified accounts on social media since they have the ability to utilize their platform to spread awareness of social distancing and ‘stay-at-home’ measures."
   ]
  },
  {
   "cell_type": "markdown",
   "metadata": {
    "colab_type": "text",
    "id": "3DmButa1Ywdh"
   },
   "source": [
    "## Data Preprocessing"
   ]
  },
  {
   "cell_type": "markdown",
   "metadata": {
    "colab_type": "text",
    "id": "AC2zWZbtY5wo"
   },
   "source": [
    "### Import Libraries and Modules"
   ]
  },
  {
   "cell_type": "code",
   "execution_count": 1,
   "metadata": {
    "colab": {},
    "colab_type": "code",
    "id": "9IXUry66apDx"
   },
   "outputs": [],
   "source": [
    "import random\n",
    "import string\n",
    "import pandas as pd\n",
    "import numpy as np"
   ]
  },
  {
   "cell_type": "markdown",
   "metadata": {
    "colab_type": "text",
    "id": "DNs92DehbzRB"
   },
   "source": [
    "NLTK to help process tweets as a natural language"
   ]
  },
  {
   "cell_type": "code",
   "execution_count": 2,
   "metadata": {
    "colab": {
     "base_uri": "https://localhost:8080/",
     "height": 68
    },
    "colab_type": "code",
    "id": "kEIt3Z9mao3M",
    "outputId": "a6c11a8d-c028-4791-f451-2508ffa1efef"
   },
   "outputs": [
    {
     "name": "stderr",
     "output_type": "stream",
     "text": [
      "[nltk_data] Downloading package vader_lexicon to\n",
      "[nltk_data]     C:\\Users\\16824\\AppData\\Roaming\\nltk_data...\n",
      "[nltk_data]   Package vader_lexicon is already up-to-date!\n",
      "[nltk_data] Downloading package stopwords to\n",
      "[nltk_data]     C:\\Users\\16824\\AppData\\Roaming\\nltk_data...\n",
      "[nltk_data]   Package stopwords is already up-to-date!\n"
     ]
    }
   ],
   "source": [
    "import nltk\n",
    "import nltk\n",
    "nltk.download('vader_lexicon')\n",
    "nltk.download('stopwords')\n",
    "from nltk.corpus import words\n",
    "from nltk.corpus import stopwords\n",
    "from nltk.sentiment.vader import SentimentIntensityAnalyzer\n",
    "from nltk.sentiment.util import *\n",
    "from collections import Counter"
   ]
  },
  {
   "cell_type": "markdown",
   "metadata": {
    "colab_type": "text",
    "id": "goWJK-UScUdw"
   },
   "source": [
    "Tools for visualizing the data"
   ]
  },
  {
   "cell_type": "code",
   "execution_count": 3,
   "metadata": {
    "colab": {},
    "colab_type": "code",
    "id": "D6zireSPaofu"
   },
   "outputs": [],
   "source": [
    "# Visualization\n",
    "import matplotlib as mpl\n",
    "from matplotlib import pyplot as plt\n",
    "import seaborn as sns\n",
    "from wordcloud import WordCloud, STOPWORDS, ImageColorGenerator"
   ]
  },
  {
   "cell_type": "markdown",
   "metadata": {
    "colab_type": "text",
    "id": "Vj3GxqU8391q"
   },
   "source": [
    "### Import Data\n",
    "\n",
    "We will import and concatenate Twitter data from when the Stay at Home orders were first issued in California on March 19, 2020.\n",
    "\n",
    "**Note** There are two cells to include three different methods to upload data for team collaboration and accessability."
   ]
  },
  {
   "cell_type": "markdown",
   "metadata": {
    "colab_type": "text",
    "id": "Gge4y2gUdrYE"
   },
   "source": [
    "Loading and concatenating multiple data sets into one main dataset for data cleaning and mining. Each dataset represents one day. After concatenating the data, we will then export it into one file using the `.to_csv` command"
   ]
  },
  {
   "cell_type": "code",
   "execution_count": 4,
   "metadata": {
    "colab": {},
    "colab_type": "code",
    "id": "pDHHYNfW391q"
   },
   "outputs": [],
   "source": [
    "#During the import we will identify the date of the data in the variables assigned \n",
    "#cols = ['created_at', 'screen_name', 'text', 'retweet_count', 'followers_count', 'verified','friends_count', 'lang']\n",
    "#Tweet031920 = pd.read_csv(r'C:\\Users\\16824\\Python Coding Files\\Data\\Twitter\\2020-03-19 Coronavirus Tweets.csv', usecols = cols)\n",
    "#Tweet032020 = pd.read_csv(r'C:\\Users\\16824\\Python Coding Files\\Data\\Twitter\\2020-03-20 Coronavirus Tweets.csv', usecols = cols)\n",
    "#Tweet032120 = pd.read_csv(r'C:\\Users\\16824\\Python Coding Files\\Data\\Twitter\\2020-03-21 Coronavirus Tweets.csv', usecols = cols)\n",
    "#Tweet032220 = pd.read_csv(r'C:\\Users\\16824\\Python Coding Files\\Data\\Twitter\\2020-03-22 Coronavirus Tweets.csv', usecols = cols)\n",
    "#Tweet032320 = pd.read_csv(r'C:\\Users\\16824\\Python Coding Files\\Data\\Twitter\\2020-03-23 Coronavirus Tweets.csv', usecols = cols)\n",
    "#Tweet032420 = pd.read_csv(r'C:\\Users\\16824\\Python Coding Files\\Data\\Twitter\\2020-03-24 Coronavirus Tweets.csv', usecols = cols)\n",
    "#Tweet032520 = pd.read_csv(r'C:\\Users\\16824\\Python Coding Files\\Data\\Twitter\\2020-03-25 Coronavirus Tweets.csv', usecols = cols)\n",
    "#Tweet032620 = pd.read_csv(r'C:\\Users\\16824\\Python Coding Files\\Data\\Twitter\\2020-03-26 Coronavirus Tweets.csv', usecols = cols)\n",
    "#Tweet032720 = pd.read_csv(r'C:\\Users\\16824\\Python Coding Files\\Data\\Twitter\\2020-03-27 Coronavirus Tweets.csv', usecols = cols)\n",
    "#Tweet032820 = pd.read_csv(r'C:\\Users\\16824\\Python Coding Files\\Data\\Twitter\\2020-03-28 Coronavirus Tweets.csv', usecols = cols)\n",
    "\n",
    "#Here we will concatinate the Twitter datasets into one titled SAH_Tweets (Stay at Home Tweets) \n",
    "\n",
    "#COVID_Tweets_Data = [Tweet031920, Tweet032020, Tweet032120, Tweet032220, Tweet032320, Tweet032420, Tweet032520, Tweet032620, Tweet032720, Tweet032820]\n",
    "\n",
    "#COVID_Tweets = pd.concat(COVID_Tweets_Data)\n",
    "#COVID_Tweets.to_csv(r'E:\\School\\Spring 2020\\Fundamentals of Data Science\\Twitter Covid Dataset.csv')"
   ]
  },
  {
   "cell_type": "markdown",
   "metadata": {
    "colab_type": "text",
    "id": "iW76noPG391t"
   },
   "source": [
    "Import dataset with `pd.read_csv`"
   ]
  },
  {
   "cell_type": "code",
   "execution_count": 6,
   "metadata": {
    "colab": {},
    "colab_type": "code",
    "id": "AFA2lSk8391u"
   },
   "outputs": [],
   "source": [
    "COVID_Tweets = pd.read_csv(r'E:\\School\\Spring 2020\\Big Data\\Twitter Covid Dataset.csv')"
   ]
  },
  {
   "cell_type": "markdown",
   "metadata": {},
   "source": [
    "### Cleaning and Mining the Dataset for Analysis"
   ]
  },
  {
   "cell_type": "markdown",
   "metadata": {
    "colab_type": "text",
    "id": "GgvWEPLu391x"
   },
   "source": [
    "Renaming columns for  clarity during analysis\n",
    "\n",
    "Column Meanings:\n",
    "- **Time:** The date and time of the Tweet.  \n",
    "- **Username:** The screen name of the account that Tweeted.  \n",
    "- **Tweet:** The text of the Tweet.  \n",
    "- **Retweet Count:** The number of times this Tweet has been retweeted.  \n",
    "- **Followers:** The number of followers of the account that Tweeted.  \n",
    "- **Friends:** The number of friends of the account that Tweeted.  \n",
    "- **Verified Account:** Whether the account that Tweeted is verified (usually celebrities).\n",
    "- **Language:** Language of the Tweet.\n"
   ]
  },
  {
   "cell_type": "code",
   "execution_count": 7,
   "metadata": {
    "colab": {
     "base_uri": "https://localhost:8080/",
     "height": 684
    },
    "colab_type": "code",
    "id": "AzUIUpkF391y",
    "outputId": "ff436028-1eb6-4de6-a2fb-e89d7e885f87"
   },
   "outputs": [
    {
     "data": {
      "text/html": [
       "<div>\n",
       "<style scoped>\n",
       "    .dataframe tbody tr th:only-of-type {\n",
       "        vertical-align: middle;\n",
       "    }\n",
       "\n",
       "    .dataframe tbody tr th {\n",
       "        vertical-align: top;\n",
       "    }\n",
       "\n",
       "    .dataframe thead th {\n",
       "        text-align: right;\n",
       "    }\n",
       "</style>\n",
       "<table border=\"1\" class=\"dataframe\">\n",
       "  <thead>\n",
       "    <tr style=\"text-align: right;\">\n",
       "      <th></th>\n",
       "      <th>Unnamed: 0</th>\n",
       "      <th>Time</th>\n",
       "      <th>Username</th>\n",
       "      <th>Tweet</th>\n",
       "      <th>Retweet Count</th>\n",
       "      <th>Followers</th>\n",
       "      <th>Friends</th>\n",
       "      <th>Verified Account</th>\n",
       "      <th>Language</th>\n",
       "    </tr>\n",
       "  </thead>\n",
       "  <tbody>\n",
       "    <tr>\n",
       "      <td>0</td>\n",
       "      <td>0</td>\n",
       "      <td>2020-03-19</td>\n",
       "      <td>larazon_es</td>\n",
       "      <td>🔴 #Directo #COVID19 | La selección española co...</td>\n",
       "      <td>2</td>\n",
       "      <td>521020</td>\n",
       "      <td>3032</td>\n",
       "      <td>True</td>\n",
       "      <td>es</td>\n",
       "    </tr>\n",
       "    <tr>\n",
       "      <td>1</td>\n",
       "      <td>1</td>\n",
       "      <td>2020-03-19</td>\n",
       "      <td>DZMMTeleRadyo</td>\n",
       "      <td>Albay isasara ang mga border bunsod ng pagkala...</td>\n",
       "      <td>3</td>\n",
       "      <td>1343718</td>\n",
       "      <td>164</td>\n",
       "      <td>True</td>\n",
       "      <td>tl</td>\n",
       "    </tr>\n",
       "    <tr>\n",
       "      <td>2</td>\n",
       "      <td>2</td>\n",
       "      <td>2020-03-19</td>\n",
       "      <td>ANCALERTS</td>\n",
       "      <td>Tips on how to make employees work from home m...</td>\n",
       "      <td>0</td>\n",
       "      <td>4853083</td>\n",
       "      <td>777</td>\n",
       "      <td>True</td>\n",
       "      <td>en</td>\n",
       "    </tr>\n",
       "    <tr>\n",
       "      <td>3</td>\n",
       "      <td>3</td>\n",
       "      <td>2020-03-19</td>\n",
       "      <td>NOTICIEROS7</td>\n",
       "      <td>#Economía Dólar alcanza histórico precio: 25 p...</td>\n",
       "      <td>1</td>\n",
       "      <td>29375</td>\n",
       "      <td>1550</td>\n",
       "      <td>False</td>\n",
       "      <td>es</td>\n",
       "    </tr>\n",
       "    <tr>\n",
       "      <td>4</td>\n",
       "      <td>4</td>\n",
       "      <td>2020-03-19</td>\n",
       "      <td>RecruitRetail</td>\n",
       "      <td>While working from home you can get in a bette...</td>\n",
       "      <td>0</td>\n",
       "      <td>256</td>\n",
       "      <td>779</td>\n",
       "      <td>False</td>\n",
       "      <td>en</td>\n",
       "    </tr>\n",
       "  </tbody>\n",
       "</table>\n",
       "</div>"
      ],
      "text/plain": [
       "   Unnamed: 0        Time       Username  \\\n",
       "0           0  2020-03-19     larazon_es   \n",
       "1           1  2020-03-19  DZMMTeleRadyo   \n",
       "2           2  2020-03-19      ANCALERTS   \n",
       "3           3  2020-03-19    NOTICIEROS7   \n",
       "4           4  2020-03-19  RecruitRetail   \n",
       "\n",
       "                                               Tweet  Retweet Count  \\\n",
       "0  🔴 #Directo #COVID19 | La selección española co...              2   \n",
       "1  Albay isasara ang mga border bunsod ng pagkala...              3   \n",
       "2  Tips on how to make employees work from home m...              0   \n",
       "3  #Economía Dólar alcanza histórico precio: 25 p...              1   \n",
       "4  While working from home you can get in a bette...              0   \n",
       "\n",
       "   Followers  Friends  Verified Account Language  \n",
       "0     521020     3032              True       es  \n",
       "1    1343718      164              True       tl  \n",
       "2    4853083      777              True       en  \n",
       "3      29375     1550             False       es  \n",
       "4        256      779             False       en  "
      ]
     },
     "execution_count": 7,
     "metadata": {},
     "output_type": "execute_result"
    }
   ],
   "source": [
    "COVID_Tweets.rename(columns = {'created_at': 'Time', 'screen_name': 'Username', 'text': 'Tweet', 'retweet_count': 'Retweet Count', 'followers_count': 'Followers',\n",
    "       'friends_count': 'Friends', 'verified':'Verified Account', 'lang' : 'Language'}, inplace=True)\n",
    "\n",
    "COVID_Tweets['Time'] = pd.to_datetime(COVID_Tweets['Time']).dt.date\n",
    "COVID_Tweets.head(5)"
   ]
  },
  {
   "cell_type": "markdown",
   "metadata": {
    "colab_type": "text",
    "id": "p7JHie9in-TY"
   },
   "source": [
    "Exploring information about the items, data types, and columns within our dataset."
   ]
  },
  {
   "cell_type": "code",
   "execution_count": 8,
   "metadata": {
    "colab": {
     "base_uri": "https://localhost:8080/",
     "height": 601
    },
    "colab_type": "code",
    "id": "yti9Vgsr3914",
    "outputId": "a70ca94c-312b-45fe-abf7-557c8c1b4a75"
   },
   "outputs": [
    {
     "name": "stdout",
     "output_type": "stream",
     "text": [
      "\n",
      "COVID-19 Twitter dataset shape:\n",
      "  (7288447, 9)\n",
      "\n",
      "COVID-19 Twitter dataset Data Types:\n",
      " Unnamed: 0           int64\n",
      "Time                object\n",
      "Username            object\n",
      "Tweet               object\n",
      "Retweet Count        int64\n",
      "Followers            int64\n",
      "Friends              int64\n",
      "Verified Account      bool\n",
      "Language            object\n",
      "dtype: object\n",
      "\n",
      "COVID-19 Twitter dataset Columns:\n",
      " Index(['Unnamed: 0', 'Time', 'Username', 'Tweet', 'Retweet Count', 'Followers',\n",
      "       'Friends', 'Verified Account', 'Language'],\n",
      "      dtype='object')\n",
      "\n",
      "COVID-19 Death dataset description:\n",
      "           Unnamed: 0  Retweet Count     Followers       Friends\n",
      "count  7.288447e+06   7.288447e+06  7.288447e+06  7.288447e+06\n",
      "mean   3.718870e+05   3.901593e+00  5.102600e+04  1.914169e+03\n",
      "std    2.232453e+05   8.762777e+01  4.849589e+05  1.079829e+04\n",
      "min    0.000000e+00   0.000000e+00  0.000000e+00  0.000000e+00\n",
      "25%    1.822110e+05   0.000000e+00  1.240000e+02  1.530000e+02\n",
      "50%    3.644220e+05   0.000000e+00  6.710000e+02  4.900000e+02\n",
      "75%    5.466330e+05   1.000000e+00  3.537000e+03  1.383000e+03\n",
      "max    8.819540e+05   7.982700e+04  7.448312e+07  4.426286e+06\n"
     ]
    }
   ],
   "source": [
    "print('\\nCOVID-19 Twitter dataset shape:\\n ', COVID_Tweets.shape)\n",
    "print('\\nCOVID-19 Twitter dataset Data Types:\\n', COVID_Tweets.dtypes)\n",
    "print('\\nCOVID-19 Twitter dataset Columns:\\n', COVID_Tweets.columns)\n",
    "print('\\nCOVID-19 Death dataset description:\\n ', COVID_Tweets.describe())"
   ]
  },
  {
   "cell_type": "markdown",
   "metadata": {
    "colab_type": "text",
    "id": "C4mCaL53oEiA"
   },
   "source": [
    "Checking the dataset for null values"
   ]
  },
  {
   "cell_type": "code",
   "execution_count": 9,
   "metadata": {
    "colab": {
     "base_uri": "https://localhost:8080/",
     "height": 188
    },
    "colab_type": "code",
    "id": "zZzhJURx3918",
    "outputId": "66d549d6-2fb0-4769-d3d6-b8f508d3c1d8"
   },
   "outputs": [
    {
     "data": {
      "text/plain": [
       "Unnamed: 0          0\n",
       "Time                0\n",
       "Username            0\n",
       "Tweet               0\n",
       "Retweet Count       0\n",
       "Followers           0\n",
       "Friends             0\n",
       "Verified Account    0\n",
       "Language            0\n",
       "dtype: int64"
      ]
     },
     "execution_count": 9,
     "metadata": {},
     "output_type": "execute_result"
    }
   ],
   "source": [
    "COVID_Tweets.isnull().sum()"
   ]
  },
  {
   "cell_type": "markdown",
   "metadata": {
    "colab_type": "text",
    "id": "jYocZJ6p23sZ"
   },
   "source": [
    "Removing duplicate rows in our dataset.\n"
   ]
  },
  {
   "cell_type": "code",
   "execution_count": 10,
   "metadata": {
    "colab": {
     "base_uri": "https://localhost:8080/",
     "height": 829
    },
    "colab_type": "code",
    "id": "0vAHkZ9H3DJM",
    "outputId": "9fe32ad5-d77d-4203-8f56-80bfc71b27b0",
    "scrolled": true
   },
   "outputs": [
    {
     "data": {
      "text/html": [
       "<div>\n",
       "<style scoped>\n",
       "    .dataframe tbody tr th:only-of-type {\n",
       "        vertical-align: middle;\n",
       "    }\n",
       "\n",
       "    .dataframe tbody tr th {\n",
       "        vertical-align: top;\n",
       "    }\n",
       "\n",
       "    .dataframe thead th {\n",
       "        text-align: right;\n",
       "    }\n",
       "</style>\n",
       "<table border=\"1\" class=\"dataframe\">\n",
       "  <thead>\n",
       "    <tr style=\"text-align: right;\">\n",
       "      <th></th>\n",
       "      <th>Unnamed: 0</th>\n",
       "      <th>Time</th>\n",
       "      <th>Username</th>\n",
       "      <th>Tweet</th>\n",
       "      <th>Retweet Count</th>\n",
       "      <th>Followers</th>\n",
       "      <th>Friends</th>\n",
       "      <th>Verified Account</th>\n",
       "      <th>Language</th>\n",
       "    </tr>\n",
       "  </thead>\n",
       "  <tbody>\n",
       "    <tr>\n",
       "      <td>0</td>\n",
       "      <td>0</td>\n",
       "      <td>2020-03-19</td>\n",
       "      <td>larazon_es</td>\n",
       "      <td>🔴 #Directo #COVID19 | La selección española co...</td>\n",
       "      <td>2</td>\n",
       "      <td>521020</td>\n",
       "      <td>3032</td>\n",
       "      <td>True</td>\n",
       "      <td>es</td>\n",
       "    </tr>\n",
       "    <tr>\n",
       "      <td>1</td>\n",
       "      <td>1</td>\n",
       "      <td>2020-03-19</td>\n",
       "      <td>DZMMTeleRadyo</td>\n",
       "      <td>Albay isasara ang mga border bunsod ng pagkala...</td>\n",
       "      <td>3</td>\n",
       "      <td>1343718</td>\n",
       "      <td>164</td>\n",
       "      <td>True</td>\n",
       "      <td>tl</td>\n",
       "    </tr>\n",
       "    <tr>\n",
       "      <td>2</td>\n",
       "      <td>2</td>\n",
       "      <td>2020-03-19</td>\n",
       "      <td>ANCALERTS</td>\n",
       "      <td>Tips on how to make employees work from home m...</td>\n",
       "      <td>0</td>\n",
       "      <td>4853083</td>\n",
       "      <td>777</td>\n",
       "      <td>True</td>\n",
       "      <td>en</td>\n",
       "    </tr>\n",
       "    <tr>\n",
       "      <td>3</td>\n",
       "      <td>3</td>\n",
       "      <td>2020-03-19</td>\n",
       "      <td>NOTICIEROS7</td>\n",
       "      <td>#Economía Dólar alcanza histórico precio: 25 p...</td>\n",
       "      <td>1</td>\n",
       "      <td>29375</td>\n",
       "      <td>1550</td>\n",
       "      <td>False</td>\n",
       "      <td>es</td>\n",
       "    </tr>\n",
       "    <tr>\n",
       "      <td>4</td>\n",
       "      <td>4</td>\n",
       "      <td>2020-03-19</td>\n",
       "      <td>RecruitRetail</td>\n",
       "      <td>While working from home you can get in a bette...</td>\n",
       "      <td>0</td>\n",
       "      <td>256</td>\n",
       "      <td>779</td>\n",
       "      <td>False</td>\n",
       "      <td>en</td>\n",
       "    </tr>\n",
       "    <tr>\n",
       "      <td>...</td>\n",
       "      <td>...</td>\n",
       "      <td>...</td>\n",
       "      <td>...</td>\n",
       "      <td>...</td>\n",
       "      <td>...</td>\n",
       "      <td>...</td>\n",
       "      <td>...</td>\n",
       "      <td>...</td>\n",
       "      <td>...</td>\n",
       "    </tr>\n",
       "    <tr>\n",
       "      <td>7288442</td>\n",
       "      <td>582050</td>\n",
       "      <td>2020-03-28</td>\n",
       "      <td>ClaudiaWebbe</td>\n",
       "      <td>See here 👇🏾specialist nurses from Cuba arrive ...</td>\n",
       "      <td>24</td>\n",
       "      <td>17920</td>\n",
       "      <td>6852</td>\n",
       "      <td>True</td>\n",
       "      <td>en</td>\n",
       "    </tr>\n",
       "    <tr>\n",
       "      <td>7288443</td>\n",
       "      <td>582051</td>\n",
       "      <td>2020-03-28</td>\n",
       "      <td>AdorkableMel</td>\n",
       "      <td>All day of #selfisolating on the couch binging...</td>\n",
       "      <td>0</td>\n",
       "      <td>2</td>\n",
       "      <td>15</td>\n",
       "      <td>False</td>\n",
       "      <td>en</td>\n",
       "    </tr>\n",
       "    <tr>\n",
       "      <td>7288444</td>\n",
       "      <td>582052</td>\n",
       "      <td>2020-03-28</td>\n",
       "      <td>MrPartyyyHardy</td>\n",
       "      <td>It’s about that time of the day that I start s...</td>\n",
       "      <td>0</td>\n",
       "      <td>596</td>\n",
       "      <td>465</td>\n",
       "      <td>False</td>\n",
       "      <td>en</td>\n",
       "    </tr>\n",
       "    <tr>\n",
       "      <td>7288445</td>\n",
       "      <td>582053</td>\n",
       "      <td>2020-03-28</td>\n",
       "      <td>1lifesha2live</td>\n",
       "      <td>Smoked Salmon,Carrots,Corn bread,Rice n beans,...</td>\n",
       "      <td>0</td>\n",
       "      <td>900</td>\n",
       "      <td>444</td>\n",
       "      <td>False</td>\n",
       "      <td>en</td>\n",
       "    </tr>\n",
       "    <tr>\n",
       "      <td>7288446</td>\n",
       "      <td>582054</td>\n",
       "      <td>2020-03-28</td>\n",
       "      <td>YorukIsik</td>\n",
       "      <td>The missing six weeks: how Trump failed the bi...</td>\n",
       "      <td>0</td>\n",
       "      <td>32732</td>\n",
       "      <td>2666</td>\n",
       "      <td>True</td>\n",
       "      <td>en</td>\n",
       "    </tr>\n",
       "  </tbody>\n",
       "</table>\n",
       "<p>6828234 rows × 9 columns</p>\n",
       "</div>"
      ],
      "text/plain": [
       "         Unnamed: 0        Time        Username  \\\n",
       "0                 0  2020-03-19      larazon_es   \n",
       "1                 1  2020-03-19   DZMMTeleRadyo   \n",
       "2                 2  2020-03-19       ANCALERTS   \n",
       "3                 3  2020-03-19     NOTICIEROS7   \n",
       "4                 4  2020-03-19   RecruitRetail   \n",
       "...             ...         ...             ...   \n",
       "7288442      582050  2020-03-28    ClaudiaWebbe   \n",
       "7288443      582051  2020-03-28    AdorkableMel   \n",
       "7288444      582052  2020-03-28  MrPartyyyHardy   \n",
       "7288445      582053  2020-03-28   1lifesha2live   \n",
       "7288446      582054  2020-03-28       YorukIsik   \n",
       "\n",
       "                                                     Tweet  Retweet Count  \\\n",
       "0        🔴 #Directo #COVID19 | La selección española co...              2   \n",
       "1        Albay isasara ang mga border bunsod ng pagkala...              3   \n",
       "2        Tips on how to make employees work from home m...              0   \n",
       "3        #Economía Dólar alcanza histórico precio: 25 p...              1   \n",
       "4        While working from home you can get in a bette...              0   \n",
       "...                                                    ...            ...   \n",
       "7288442  See here 👇🏾specialist nurses from Cuba arrive ...             24   \n",
       "7288443  All day of #selfisolating on the couch binging...              0   \n",
       "7288444  It’s about that time of the day that I start s...              0   \n",
       "7288445  Smoked Salmon,Carrots,Corn bread,Rice n beans,...              0   \n",
       "7288446  The missing six weeks: how Trump failed the bi...              0   \n",
       "\n",
       "         Followers  Friends  Verified Account Language  \n",
       "0           521020     3032              True       es  \n",
       "1          1343718      164              True       tl  \n",
       "2          4853083      777              True       en  \n",
       "3            29375     1550             False       es  \n",
       "4              256      779             False       en  \n",
       "...            ...      ...               ...      ...  \n",
       "7288442      17920     6852              True       en  \n",
       "7288443          2       15             False       en  \n",
       "7288444        596      465             False       en  \n",
       "7288445        900      444             False       en  \n",
       "7288446      32732     2666              True       en  \n",
       "\n",
       "[6828234 rows x 9 columns]"
      ]
     },
     "execution_count": 10,
     "metadata": {},
     "output_type": "execute_result"
    }
   ],
   "source": [
    "COVID_Tweets.drop_duplicates('Tweet')\n"
   ]
  },
  {
   "cell_type": "markdown",
   "metadata": {
    "colab_type": "text",
    "id": "c19yPhIupTZ5"
   },
   "source": [
    "Filtering, extracting and creating a dataset of tweets in the English language"
   ]
  },
  {
   "cell_type": "code",
   "execution_count": 11,
   "metadata": {
    "colab": {},
    "colab_type": "code",
    "id": "WmmTVO4Foaru"
   },
   "outputs": [],
   "source": [
    "#Copy dataset for manipulation and analysis\n",
    "COVID_Tweets_copy = COVID_Tweets.copy()"
   ]
  },
  {
   "cell_type": "code",
   "execution_count": 12,
   "metadata": {
    "colab": {
     "base_uri": "https://localhost:8080/",
     "height": 752
    },
    "colab_type": "code",
    "id": "mUQKJHgA391_",
    "outputId": "370f4eda-d5df-4f4c-cc1e-8a0af93cddfc",
    "scrolled": false
   },
   "outputs": [
    {
     "name": "stdout",
     "output_type": "stream",
     "text": [
      "Twitter dataset shape: (4060103, 8)\n"
     ]
    },
    {
     "data": {
      "text/plain": [
       "0          False\n",
       "1          False\n",
       "2          False\n",
       "3          False\n",
       "4          False\n",
       "           ...  \n",
       "4060098    True \n",
       "4060099    False\n",
       "4060100    True \n",
       "4060101    False\n",
       "4060102    True \n",
       "Name: Username, Length: 4060103, dtype: bool"
      ]
     },
     "execution_count": 12,
     "metadata": {},
     "output_type": "execute_result"
    }
   ],
   "source": [
    "#Filtering English Tweets\n",
    "COVID_Tweets_en = pd.DataFrame(COVID_Tweets_copy[COVID_Tweets['Language'] == 'en'].reset_index())\n",
    "COVID_Tweets_en.pop('Language', )\n",
    "COVID_Tweets_en.drop('Unnamed: 0', axis = 1, inplace = True)\n",
    "pd.set_option('max_colwidth', -1)\n",
    "print('Twitter dataset shape:', COVID_Tweets_en.shape)\n",
    "COVID_Tweets_en['Username'].duplicated()"
   ]
  },
  {
   "cell_type": "markdown",
   "metadata": {
    "colab_type": "text",
    "id": "u5YrjxazrKSr"
   },
   "source": [
    "# What is the involvement and activity of verified Twitter accounts?\n",
    "\n",
    "Verified accounts on Twitter.com are authenticated accounts of public interest. Here we will explore the activiy of Coronavirus related tweets from verified users within the dataset.\n",
    "\n",
    "*   True: Verified Account\n",
    "*   False: Account not Verified\n",
    "\n"
   ]
  },
  {
   "cell_type": "markdown",
   "metadata": {},
   "source": [
    "### How many tweets in the dataset were posted by verified accounts"
   ]
  },
  {
   "cell_type": "code",
   "execution_count": 13,
   "metadata": {},
   "outputs": [
    {
     "name": "stdout",
     "output_type": "stream",
     "text": [
      "False    3693162\n",
      "True     366941 \n",
      "Name: Verified Account, dtype: int64\n",
      "Total Rows:  4060103\n"
     ]
    }
   ],
   "source": [
    "print(COVID_Tweets_en['Verified Account'].value_counts())\n",
    "print('Total Rows: ', COVID_Tweets_en['Verified Account'].count())"
   ]
  },
  {
   "cell_type": "code",
   "execution_count": 14,
   "metadata": {
    "colab": {
     "base_uri": "https://localhost:8080/",
     "height": 0
    },
    "colab_type": "code",
    "id": "GGo_B8TOsGc9",
    "outputId": "c6a49754-ba1d-4098-f61c-655d71431cbe",
    "scrolled": true
   },
   "outputs": [
    {
     "name": "stdout",
     "output_type": "stream",
     "text": [
      "The total number of COVID-19 related tweets from verified accounts on Twitter is 366941\n",
      "False    90.96\n",
      "True     9.04 \n",
      "Name: Verified Account, dtype: float64\n"
     ]
    }
   ],
   "source": [
    "#Finding the number of tweets posted by verified users\n",
    "print( 'The total number of COVID-19 related tweets from verified accounts on Twitter is', np.sum(COVID_Tweets_en['Verified Account']))\n",
    "\n",
    "#Finding the percentage of tweets posted by verified and non-verified users\n",
    "print(((COVID_Tweets_en['Verified Account'].value_counts()/COVID_Tweets_en['Verified Account'].count())*100).round(2))"
   ]
  },
  {
   "cell_type": "markdown",
   "metadata": {},
   "source": [
    "We can see from the algorithm above the percentage of tweets posted from verified accounts is 9% and the percentage of tweets \n",
    "from non-verified accounts is 91%."
   ]
  },
  {
   "cell_type": "markdown",
   "metadata": {},
   "source": [
    "Below we are able to visualize and compare the activity between the two classifications of Twitter accounts. "
   ]
  },
  {
   "cell_type": "code",
   "execution_count": 15,
   "metadata": {
    "colab": {
     "base_uri": "https://localhost:8080/",
     "height": 0
    },
    "colab_type": "code",
    "id": "FWmPMdpv392Q",
    "outputId": "f245de91-21fd-4fd7-cd6d-c65563649b92"
   },
   "outputs": [
    {
     "name": "stdout",
     "output_type": "stream",
     "text": [
      "The chart below is a visual representation the amount of tweets from non-verified accounts vs. verified accounts. \n",
      "\n",
      "True: Verified Account \n",
      "False: Account not Verified\n"
     ]
    },
    {
     "data": {
      "image/png": "[encoded data removed]",
      "text/plain": [
       "<Figure size 432x288 with 1 Axes>"
      ]
     },
     "metadata": {
      "needs_background": "light"
     },
     "output_type": "display_data"
    },
    {
     "data": {
      "text/plain": [
       "<Figure size 576x576 with 0 Axes>"
      ]
     },
     "metadata": {},
     "output_type": "display_data"
    }
   ],
   "source": [
    "print('The chart below is a visual representation the amount of tweets from non-verified accounts vs. verified accounts. \\n\\nTrue: Verified Account \\nFalse: Account not Verified')\n",
    "\n",
    "#COVID_plt = COVID_Tweets_en['Verified Account'].value_counts().plot(kind='bar', color = 'g')\n",
    "COVID_plt = COVID_Tweets_en['Verified Account'].value_counts().plot(kind='bar', color = 'g')\n",
    "\n",
    "#Creating our visualization\n",
    "\n",
    "fig = plt.figure(figsize=(8,8)) \n",
    "fig_dims = (3, 2)\n",
    "\n",
    "COVID_plt.set_title('Number of Tweets from Verified Accounts', fontname='Arial', fontsize=20)\n",
    "COVID_plt.set_ylabel('Number of Tweets', fontname=\"Arial\", fontsize=16)\n",
    "COVID_plt.set_xlabel('Verification Status', fontname=\"Arial\", fontsize=16)\n",
    "for item in (COVID_plt.get_xticklabels() + COVID_plt.get_yticklabels()):\n",
    "    item.set_fontsize(14)\n"
   ]
  },
  {
   "cell_type": "markdown",
   "metadata": {},
   "source": [
    "### How many verified accounts are tweeting about COVID-19\n",
    "\n",
    "Here we will calculate the total a number of verified users engaged in COVID-19 related social media activities."
   ]
  },
  {
   "cell_type": "code",
   "execution_count": 16,
   "metadata": {},
   "outputs": [
    {
     "data": {
      "text/plain": [
       "(326560, 2)"
      ]
     },
     "execution_count": 16,
     "metadata": {},
     "output_type": "execute_result"
    }
   ],
   "source": [
    "Verified_Dataset = COVID_Tweets_en[['Username', 'Verified Account']]\n",
    "Verified_Accounts = Verified_Dataset[Verified_Dataset['Verified Account']]\n",
    "Verified_Accounts.loc[Verified_Accounts.duplicated(keep='first'), :].shape"
   ]
  },
  {
   "cell_type": "code",
   "execution_count": 17,
   "metadata": {
    "scrolled": false
   },
   "outputs": [
    {
     "data": {
      "text/plain": [
       "(2321248, 2)"
      ]
     },
     "execution_count": 17,
     "metadata": {},
     "output_type": "execute_result"
    }
   ],
   "source": [
    "NonVerified_Dataset = COVID_Tweets_en[['Username', 'Verified Account']]\n",
    "NonVerified_Accounts = NonVerified_Dataset[~NonVerified_Dataset['Verified Account']]\n",
    "NonVerified_Accounts.loc[NonVerified_Accounts.duplicated(keep='first'), :].shape"
   ]
  },
  {
   "cell_type": "markdown",
   "metadata": {},
   "source": [
    "**Number of Verified Accounts** - 326560\n",
    "\n",
    "**Number of Non-Verified Accounts** - 2321248 "
   ]
  },
  {
   "cell_type": "code",
   "execution_count": 18,
   "metadata": {},
   "outputs": [],
   "source": [
    "Num_Verified = 326560\n",
    "Num_NonVerified = 2321248 \n",
    "\n",
    "Total_Num_of_Accounts = Num_Verified + Num_NonVerified \n",
    "\n",
    "Percentage_of_Verified = Num_Verified / Total_Num_of_Accounts \n",
    "\n",
    "Percentage_of_NonVerified = Num_NonVerified / Total_Num_of_Accounts "
   ]
  },
  {
   "cell_type": "code",
   "execution_count": 19,
   "metadata": {},
   "outputs": [
    {
     "name": "stdout",
     "output_type": "stream",
     "text": [
      "Total Number of Twitter accounts in the dataset: 2647808 \n",
      "Percentage of verified Twitter accounts in the dataset: 0.12% \n",
      "Percentage of non-verified Twitter accounts in the dataset: 0.88% \n"
     ]
    }
   ],
   "source": [
    "print('Total Number of Twitter accounts in the dataset: {} '.format(Total_Num_of_Accounts))\n",
    "print('Percentage of verified Twitter accounts in the dataset: {:.2f}% '.format(Percentage_of_Verified))\n",
    "print('Percentage of non-verified Twitter accounts in the dataset: {:.2f}% '.format(Percentage_of_NonVerified))"
   ]
  },
  {
   "cell_type": "markdown",
   "metadata": {},
   "source": [
    "After dropping the duplicate usernames we are able to identify the total amount of verified accounts which are represented by the rows in the '.shape' output. \n",
    "\n",
    "From this data we are able to identify that a total of 326,560 users are engaged in COVID-19 Twitter activity which is only 12% of the overall accounts involved. "
   ]
  },
  {
   "cell_type": "markdown",
   "metadata": {
    "colab_type": "text",
    "id": "gCLcqhbKuSnk"
   },
   "source": [
    "# Presence of hashtags in dataset\n",
    "\n",
    "Here we will search for popular covid related hashtags in the Tweet column. If the hashtag from the respective row exist then it will return a boolean value of `True`."
   ]
  },
  {
   "cell_type": "code",
   "execution_count": 20,
   "metadata": {
    "colab": {
     "base_uri": "https://localhost:8080/",
     "height": 718
    },
    "colab_type": "code",
    "id": "ACc2PkyU392T",
    "outputId": "e0f99f13-cb81-4d9f-b9ea-f13cfcef36fa",
    "scrolled": true
   },
   "outputs": [
    {
     "data": {
      "text/html": [
       "<div>\n",
       "<style scoped>\n",
       "    .dataframe tbody tr th:only-of-type {\n",
       "        vertical-align: middle;\n",
       "    }\n",
       "\n",
       "    .dataframe tbody tr th {\n",
       "        vertical-align: top;\n",
       "    }\n",
       "\n",
       "    .dataframe thead th {\n",
       "        text-align: right;\n",
       "    }\n",
       "</style>\n",
       "<table border=\"1\" class=\"dataframe\">\n",
       "  <thead>\n",
       "    <tr style=\"text-align: right;\">\n",
       "      <th></th>\n",
       "      <th>index</th>\n",
       "      <th>Time</th>\n",
       "      <th>Username</th>\n",
       "      <th>Tweet</th>\n",
       "      <th>Retweet Count</th>\n",
       "      <th>Followers</th>\n",
       "      <th>Friends</th>\n",
       "      <th>Verified Account</th>\n",
       "      <th>#coronavirus</th>\n",
       "      <th>#coronavirusoutbreak</th>\n",
       "      <th>#coronavirusPandemic</th>\n",
       "      <th>#covid</th>\n",
       "      <th>#stayathome</th>\n",
       "      <th>#washyourhands</th>\n",
       "      <th>#workfromhome</th>\n",
       "    </tr>\n",
       "  </thead>\n",
       "  <tbody>\n",
       "    <tr>\n",
       "      <td>0</td>\n",
       "      <td>2</td>\n",
       "      <td>2020-03-19</td>\n",
       "      <td>ANCALERTS</td>\n",
       "      <td>Tips on how to make employees work from home more effectively https://t.co/q1y81MiFpX #LuzonLockdown #COVID19</td>\n",
       "      <td>0</td>\n",
       "      <td>4853083</td>\n",
       "      <td>777</td>\n",
       "      <td>True</td>\n",
       "      <td>False</td>\n",
       "      <td>False</td>\n",
       "      <td>False</td>\n",
       "      <td>True</td>\n",
       "      <td>False</td>\n",
       "      <td>False</td>\n",
       "      <td>False</td>\n",
       "    </tr>\n",
       "    <tr>\n",
       "      <td>1</td>\n",
       "      <td>4</td>\n",
       "      <td>2020-03-19</td>\n",
       "      <td>RecruitRetail</td>\n",
       "      <td>While working from home you can get in a better state of mind if you get out of your pajamas,  brush your hair and teeth , and structure your work area #WorkFromHome #CoronaVirusChallenge #COVID19 https://t.co/A0YqSH2WoR</td>\n",
       "      <td>0</td>\n",
       "      <td>256</td>\n",
       "      <td>779</td>\n",
       "      <td>False</td>\n",
       "      <td>True</td>\n",
       "      <td>False</td>\n",
       "      <td>False</td>\n",
       "      <td>True</td>\n",
       "      <td>False</td>\n",
       "      <td>False</td>\n",
       "      <td>True</td>\n",
       "    </tr>\n",
       "    <tr>\n",
       "      <td>2</td>\n",
       "      <td>14</td>\n",
       "      <td>2020-03-19</td>\n",
       "      <td>AIDS_United</td>\n",
       "      <td>We’ve been closely monitoring the unfolding #COVID19 (#coronavirus) outbreak.\\n\\nFollowing guidance from @CDCgov and @WHO regarding crowds and air travel, #AIDSWatch is going digital this year.\\n\\nVisit https://t.co/CNkFDF8BDM for updates and to register to join us online March 30. https://t.co/7SDTwaHYxb</td>\n",
       "      <td>0</td>\n",
       "      <td>23430</td>\n",
       "      <td>4393</td>\n",
       "      <td>True</td>\n",
       "      <td>True</td>\n",
       "      <td>False</td>\n",
       "      <td>False</td>\n",
       "      <td>True</td>\n",
       "      <td>False</td>\n",
       "      <td>False</td>\n",
       "      <td>False</td>\n",
       "    </tr>\n",
       "    <tr>\n",
       "      <td>3</td>\n",
       "      <td>15</td>\n",
       "      <td>2020-03-19</td>\n",
       "      <td>asayo_kl</td>\n",
       "      <td>Today the Church celebrates the Solemnity of St. Joseph. The #CatholicBishopsofPeninsularMalaysia dedicated this day as a day of prayer and fasting to invoke St. Joseph’s intercession &amp;amp; God’s intervention for an end to #COVID19 crisis.\\n\\n#StJoseph #PrayForUs #asayokl #archkl https://t.co/Lv3bb0FguK</td>\n",
       "      <td>0</td>\n",
       "      <td>21</td>\n",
       "      <td>29</td>\n",
       "      <td>False</td>\n",
       "      <td>False</td>\n",
       "      <td>False</td>\n",
       "      <td>False</td>\n",
       "      <td>True</td>\n",
       "      <td>False</td>\n",
       "      <td>False</td>\n",
       "      <td>False</td>\n",
       "    </tr>\n",
       "    <tr>\n",
       "      <td>4</td>\n",
       "      <td>16</td>\n",
       "      <td>2020-03-19</td>\n",
       "      <td>telesurenglish</td>\n",
       "      <td>Here are the latest news about #COVID19 around the world. \\n\\nhttps://t.co/KpHUlvgTCr</td>\n",
       "      <td>3</td>\n",
       "      <td>105231</td>\n",
       "      <td>4188</td>\n",
       "      <td>False</td>\n",
       "      <td>False</td>\n",
       "      <td>False</td>\n",
       "      <td>False</td>\n",
       "      <td>True</td>\n",
       "      <td>False</td>\n",
       "      <td>False</td>\n",
       "      <td>False</td>\n",
       "    </tr>\n",
       "  </tbody>\n",
       "</table>\n",
       "</div>"
      ],
      "text/plain": [
       "   index        Time        Username  \\\n",
       "0  2      2020-03-19  ANCALERTS        \n",
       "1  4      2020-03-19  RecruitRetail    \n",
       "2  14     2020-03-19  AIDS_United      \n",
       "3  15     2020-03-19  asayo_kl         \n",
       "4  16     2020-03-19  telesurenglish   \n",
       "\n",
       "                                                                                                                                                                                                                                                                                                                Tweet  \\\n",
       "0  Tips on how to make employees work from home more effectively https://t.co/q1y81MiFpX #LuzonLockdown #COVID19                                                                                                                                                                                                        \n",
       "1  While working from home you can get in a better state of mind if you get out of your pajamas,  brush your hair and teeth , and structure your work area #WorkFromHome #CoronaVirusChallenge #COVID19 https://t.co/A0YqSH2WoR                                                                                         \n",
       "2  We’ve been closely monitoring the unfolding #COVID19 (#coronavirus) outbreak.\\n\\nFollowing guidance from @CDCgov and @WHO regarding crowds and air travel, #AIDSWatch is going digital this year.\\n\\nVisit https://t.co/CNkFDF8BDM for updates and to register to join us online March 30. https://t.co/7SDTwaHYxb   \n",
       "3  Today the Church celebrates the Solemnity of St. Joseph. The #CatholicBishopsofPeninsularMalaysia dedicated this day as a day of prayer and fasting to invoke St. Joseph’s intercession &amp; God’s intervention for an end to #COVID19 crisis.\\n\\n#StJoseph #PrayForUs #asayokl #archkl https://t.co/Lv3bb0FguK     \n",
       "4  Here are the latest news about #COVID19 around the world. \\n\\nhttps://t.co/KpHUlvgTCr                                                                                                                                                                                                                                \n",
       "\n",
       "   Retweet Count  Followers  Friends  Verified Account  #coronavirus  \\\n",
       "0  0              4853083    777      True              False          \n",
       "1  0              256        779      False             True           \n",
       "2  0              23430      4393     True              True           \n",
       "3  0              21         29       False             False          \n",
       "4  3              105231     4188     False             False          \n",
       "\n",
       "   #coronavirusoutbreak  #coronavirusPandemic  #covid  #stayathome  \\\n",
       "0  False                 False                 True    False         \n",
       "1  False                 False                 True    False         \n",
       "2  False                 False                 True    False         \n",
       "3  False                 False                 True    False         \n",
       "4  False                 False                 True    False         \n",
       "\n",
       "   #washyourhands  #workfromhome  \n",
       "0  False           False          \n",
       "1  False           True           \n",
       "2  False           False          \n",
       "3  False           False          \n",
       "4  False           False          "
      ]
     },
     "execution_count": 20,
     "metadata": {},
     "output_type": "execute_result"
    }
   ],
   "source": [
    "covid_hashtags = ['#coronavirus', '#coronavirusoutbreak', '#coronavirusPandemic', '#covid','#stayathome', '#washyourhands', '#workfromhome']\n",
    "\n",
    "for hashtag in covid_hashtags:\n",
    "    COVID_Tweets_en[hashtag] = COVID_Tweets_en['Tweet'].str.contains(hashtag, case= False, na=False)\n",
    "\n",
    "COVID_Tweets_en.head()"
   ]
  },
  {
   "cell_type": "code",
   "execution_count": 21,
   "metadata": {
    "colab": {
     "base_uri": "https://localhost:8080/",
     "height": 718
    },
    "colab_type": "code",
    "id": "tAiGrX4f392V",
    "outputId": "6b82ac87-1192-4fad-8a06-0f5ec363bd09"
   },
   "outputs": [
    {
     "data": {
      "text/html": [
       "<div>\n",
       "<style scoped>\n",
       "    .dataframe tbody tr th:only-of-type {\n",
       "        vertical-align: middle;\n",
       "    }\n",
       "\n",
       "    .dataframe tbody tr th {\n",
       "        vertical-align: top;\n",
       "    }\n",
       "\n",
       "    .dataframe thead th {\n",
       "        text-align: right;\n",
       "    }\n",
       "</style>\n",
       "<table border=\"1\" class=\"dataframe\">\n",
       "  <thead>\n",
       "    <tr style=\"text-align: right;\">\n",
       "      <th></th>\n",
       "      <th>Time</th>\n",
       "      <th>Tweet</th>\n",
       "      <th>Retweet Count</th>\n",
       "      <th>Verified Account</th>\n",
       "      <th>#coronavirus</th>\n",
       "      <th>#coronavirusoutbreak</th>\n",
       "      <th>#coronavirusPandemic</th>\n",
       "      <th>#covid</th>\n",
       "      <th>#stayathome</th>\n",
       "      <th>#washyourhands</th>\n",
       "      <th>#workfromhome</th>\n",
       "    </tr>\n",
       "  </thead>\n",
       "  <tbody>\n",
       "    <tr>\n",
       "      <td>0</td>\n",
       "      <td>2020-03-19</td>\n",
       "      <td>Tips on how to make employees work from home more effectively https://t.co/q1y81MiFpX #LuzonLockdown #COVID19</td>\n",
       "      <td>0</td>\n",
       "      <td>True</td>\n",
       "      <td>False</td>\n",
       "      <td>False</td>\n",
       "      <td>False</td>\n",
       "      <td>True</td>\n",
       "      <td>False</td>\n",
       "      <td>False</td>\n",
       "      <td>False</td>\n",
       "    </tr>\n",
       "    <tr>\n",
       "      <td>1</td>\n",
       "      <td>2020-03-19</td>\n",
       "      <td>While working from home you can get in a better state of mind if you get out of your pajamas,  brush your hair and teeth , and structure your work area #WorkFromHome #CoronaVirusChallenge #COVID19 https://t.co/A0YqSH2WoR</td>\n",
       "      <td>0</td>\n",
       "      <td>False</td>\n",
       "      <td>True</td>\n",
       "      <td>False</td>\n",
       "      <td>False</td>\n",
       "      <td>True</td>\n",
       "      <td>False</td>\n",
       "      <td>False</td>\n",
       "      <td>True</td>\n",
       "    </tr>\n",
       "    <tr>\n",
       "      <td>2</td>\n",
       "      <td>2020-03-19</td>\n",
       "      <td>We’ve been closely monitoring the unfolding #COVID19 (#coronavirus) outbreak.\\n\\nFollowing guidance from @CDCgov and @WHO regarding crowds and air travel, #AIDSWatch is going digital this year.\\n\\nVisit https://t.co/CNkFDF8BDM for updates and to register to join us online March 30. https://t.co/7SDTwaHYxb</td>\n",
       "      <td>0</td>\n",
       "      <td>True</td>\n",
       "      <td>True</td>\n",
       "      <td>False</td>\n",
       "      <td>False</td>\n",
       "      <td>True</td>\n",
       "      <td>False</td>\n",
       "      <td>False</td>\n",
       "      <td>False</td>\n",
       "    </tr>\n",
       "    <tr>\n",
       "      <td>3</td>\n",
       "      <td>2020-03-19</td>\n",
       "      <td>Today the Church celebrates the Solemnity of St. Joseph. The #CatholicBishopsofPeninsularMalaysia dedicated this day as a day of prayer and fasting to invoke St. Joseph’s intercession &amp;amp; God’s intervention for an end to #COVID19 crisis.\\n\\n#StJoseph #PrayForUs #asayokl #archkl https://t.co/Lv3bb0FguK</td>\n",
       "      <td>0</td>\n",
       "      <td>False</td>\n",
       "      <td>False</td>\n",
       "      <td>False</td>\n",
       "      <td>False</td>\n",
       "      <td>True</td>\n",
       "      <td>False</td>\n",
       "      <td>False</td>\n",
       "      <td>False</td>\n",
       "    </tr>\n",
       "    <tr>\n",
       "      <td>4</td>\n",
       "      <td>2020-03-19</td>\n",
       "      <td>Here are the latest news about #COVID19 around the world. \\n\\nhttps://t.co/KpHUlvgTCr</td>\n",
       "      <td>3</td>\n",
       "      <td>False</td>\n",
       "      <td>False</td>\n",
       "      <td>False</td>\n",
       "      <td>False</td>\n",
       "      <td>True</td>\n",
       "      <td>False</td>\n",
       "      <td>False</td>\n",
       "      <td>False</td>\n",
       "    </tr>\n",
       "  </tbody>\n",
       "</table>\n",
       "</div>"
      ],
      "text/plain": [
       "         Time  \\\n",
       "0  2020-03-19   \n",
       "1  2020-03-19   \n",
       "2  2020-03-19   \n",
       "3  2020-03-19   \n",
       "4  2020-03-19   \n",
       "\n",
       "                                                                                                                                                                                                                                                                                                                Tweet  \\\n",
       "0  Tips on how to make employees work from home more effectively https://t.co/q1y81MiFpX #LuzonLockdown #COVID19                                                                                                                                                                                                        \n",
       "1  While working from home you can get in a better state of mind if you get out of your pajamas,  brush your hair and teeth , and structure your work area #WorkFromHome #CoronaVirusChallenge #COVID19 https://t.co/A0YqSH2WoR                                                                                         \n",
       "2  We’ve been closely monitoring the unfolding #COVID19 (#coronavirus) outbreak.\\n\\nFollowing guidance from @CDCgov and @WHO regarding crowds and air travel, #AIDSWatch is going digital this year.\\n\\nVisit https://t.co/CNkFDF8BDM for updates and to register to join us online March 30. https://t.co/7SDTwaHYxb   \n",
       "3  Today the Church celebrates the Solemnity of St. Joseph. The #CatholicBishopsofPeninsularMalaysia dedicated this day as a day of prayer and fasting to invoke St. Joseph’s intercession &amp; God’s intervention for an end to #COVID19 crisis.\\n\\n#StJoseph #PrayForUs #asayokl #archkl https://t.co/Lv3bb0FguK     \n",
       "4  Here are the latest news about #COVID19 around the world. \\n\\nhttps://t.co/KpHUlvgTCr                                                                                                                                                                                                                                \n",
       "\n",
       "   Retweet Count  Verified Account  #coronavirus  #coronavirusoutbreak  \\\n",
       "0  0              True              False         False                  \n",
       "1  0              False             True          False                  \n",
       "2  0              True              True          False                  \n",
       "3  0              False             False         False                  \n",
       "4  3              False             False         False                  \n",
       "\n",
       "   #coronavirusPandemic  #covid  #stayathome  #washyourhands  #workfromhome  \n",
       "0  False                 True    False        False           False          \n",
       "1  False                 True    False        False           True           \n",
       "2  False                 True    False        False           False          \n",
       "3  False                 True    False        False           False          \n",
       "4  False                 True    False        False           False          "
      ]
     },
     "execution_count": 21,
     "metadata": {},
     "output_type": "execute_result"
    }
   ],
   "source": [
    "#Copy dataset\n",
    "COVID_Tweets_tags = COVID_Tweets_en.copy()\n",
    "\n",
    "#Drop nonessential columns\n",
    "COVID_Tweets_tags.drop(['index', 'Username', 'Friends', 'Followers'] , axis = 1, inplace = True)\n",
    "\n",
    "COVID_Tweets_tags.head()"
   ]
  },
  {
   "cell_type": "markdown",
   "metadata": {
    "colab_type": "text",
    "id": "PT_eqb-pyKsS"
   },
   "source": [
    "#### Total amount of hashtag uses found in posted tweets within the dataset."
   ]
  },
  {
   "cell_type": "code",
   "execution_count": 22,
   "metadata": {
    "colab": {
     "base_uri": "https://localhost:8080/",
     "height": 536
    },
    "colab_type": "code",
    "id": "q6eWvIZ2392X",
    "outputId": "ca853b98-29fc-45ba-9318-64ca75f93de3"
   },
   "outputs": [
    {
     "name": "stdout",
     "output_type": "stream",
     "text": [
      "#coronavirus            2540767\n",
      "#covid                  2453787\n",
      "#coronavirusPandemic    308664 \n",
      "#coronavirusoutbreak    179293 \n",
      "#stayathome             121088 \n",
      "#washyourhands          14797  \n",
      "#workfromhome           12886  \n",
      "dtype: int64\n"
     ]
    },
    {
     "data": {
      "image/png": "[encoded data removed]",
      "text/plain": [
       "<Figure size 432x288 with 1 Axes>"
      ]
     },
     "metadata": {
      "needs_background": "light"
     },
     "output_type": "display_data"
    },
    {
     "data": {
      "text/plain": [
       "<Figure size 576x576 with 0 Axes>"
      ]
     },
     "metadata": {},
     "output_type": "display_data"
    }
   ],
   "source": [
    "Tweets = pd.DataFrame(COVID_Tweets_tags[covid_hashtags])\n",
    "\n",
    "#Counting our hashtag uses\n",
    "print(COVID_Tweets_tags[covid_hashtags].sum().sort_values(ascending = False))\n",
    "\n",
    "#Creating our visualization\n",
    "COVID_plt2 = COVID_Tweets_tags[covid_hashtags].sum().sort_values(ascending = False).plot(kind='bar', color = 'm')\n",
    "\n",
    "fig = plt.figure(figsize=(8,8)) \n",
    "fig_dims = (3, 2)\n",
    "\n",
    "COVID_plt2.set_title('Amount of Hashtag Usage in Tweets', fontname='Arial', fontsize=20)\n",
    "COVID_plt2.set_ylabel('Number of Hashtag Uses', fontname=\"Arial\", fontsize=16)\n",
    "COVID_plt2.set_xlabel('\\nHashtags Used', fontname=\"Arial\", fontsize=16)\n",
    "for item in (COVID_plt2.get_xticklabels() + COVID_plt2.get_yticklabels()):\n",
    "    item.set_fontsize(14)"
   ]
  },
  {
   "cell_type": "markdown",
   "metadata": {
    "colab_type": "text",
    "id": "zcd-sTWvycXz"
   },
   "source": [
    "#### Total amount hashtag usage within tweets posted and retweeted.."
   ]
  },
  {
   "cell_type": "code",
   "execution_count": 23,
   "metadata": {
    "colab": {
     "base_uri": "https://localhost:8080/",
     "height": 154
    },
    "colab_type": "code",
    "id": "zactzGDrPeK6",
    "outputId": "f8cca13d-a78d-4033-ce99-bf25872a6b42",
    "scrolled": true
   },
   "outputs": [
    {
     "name": "stdout",
     "output_type": "stream",
     "text": [
      "#workfromhome           2602  \n",
      "#washyourhands          3485  \n",
      "#stayathome             30571 \n",
      "#coronavirusoutbreak    54948 \n",
      "#coronavirusPandemic    77874 \n",
      "#covid                  721810\n",
      "#coronavirus            731824\n",
      "dtype: int64\n"
     ]
    }
   ],
   "source": [
    "Retweets = pd.DataFrame(COVID_Tweets_tags[COVID_Tweets_tags['Retweet Count'] >= 1])\n",
    "print(Retweets[covid_hashtags].sum().sort_values(ascending = True))"
   ]
  },
  {
   "cell_type": "markdown",
   "metadata": {
    "colab_type": "text",
    "id": "aMR7rSMBypB7"
   },
   "source": [
    "#### Total amount of hashtag usage within tweets posted by a verified account in the dataset."
   ]
  },
  {
   "cell_type": "code",
   "execution_count": 24,
   "metadata": {
    "colab": {
     "base_uri": "https://localhost:8080/",
     "height": 154
    },
    "colab_type": "code",
    "id": "Gla_XHNOUOAg",
    "outputId": "1449fa76-a0e3-4682-b7c9-a120c1f65002"
   },
   "outputs": [
    {
     "name": "stdout",
     "output_type": "stream",
     "text": [
      "#workfromhome           551   \n",
      "#washyourhands          663   \n",
      "#stayathome             4032  \n",
      "#coronavirusPandemic    19202 \n",
      "#coronavirusoutbreak    22954 \n",
      "#covid                  203646\n",
      "#coronavirus            238968\n",
      "dtype: int64\n"
     ]
    }
   ],
   "source": [
    "Verified = pd.DataFrame(COVID_Tweets_tags[COVID_Tweets_tags['Verified Account'] == True])\n",
    "print(Verified[covid_hashtags].sum().sort_values(ascending = True))"
   ]
  },
  {
   "cell_type": "markdown",
   "metadata": {
    "colab_type": "text",
    "id": "gXt-Oi7Sy48M"
   },
   "source": [
    "#### Total amount of hashtag usage within tweets posted by a verified account and then retweeted."
   ]
  },
  {
   "cell_type": "code",
   "execution_count": 25,
   "metadata": {
    "colab": {
     "base_uri": "https://localhost:8080/",
     "height": 525
    },
    "colab_type": "code",
    "id": "mekFO5J6VqzV",
    "outputId": "92dbbf67-e812-4c97-e054-fc30058072db"
   },
   "outputs": [
    {
     "name": "stderr",
     "output_type": "stream",
     "text": [
      "C:\\Users\\16824\\Anaconda3\\lib\\site-packages\\ipykernel_launcher.py:1: UserWarning: Boolean Series key will be reindexed to match DataFrame index.\n",
      "  \"\"\"Entry point for launching an IPython kernel.\n"
     ]
    },
    {
     "data": {
      "text/plain": [
       "#workfromhome           316   \n",
       "#washyourhands          430   \n",
       "#stayathome             2936  \n",
       "#coronavirusPandemic    14057 \n",
       "#coronavirusoutbreak    16161 \n",
       "#covid                  144696\n",
       "#coronavirus            173204\n",
       "dtype: int64"
      ]
     },
     "execution_count": 25,
     "metadata": {},
     "output_type": "execute_result"
    }
   ],
   "source": [
    "Retweets2 = pd.DataFrame(Verified[COVID_Tweets_tags['Retweet Count'] >= 1])\n",
    "Retweets2[covid_hashtags].sum().sort_values(ascending = True)"
   ]
  },
  {
   "cell_type": "markdown",
   "metadata": {
    "colab_type": "text",
    "id": "q7LktqFs6dpb"
   },
   "source": [
    "## Data Preprocessing for Term Frequency and Sentiment Analysis\n",
    "\n",
    "Here we will use machine learning algorithims to conduct a total count of terms used in the dataset and a sentiment analysis to compute the 'feel' of the tweets posted. "
   ]
  },
  {
   "cell_type": "markdown",
   "metadata": {},
   "source": [
    "Recreating a dataframe of English tweets"
   ]
  },
  {
   "cell_type": "code",
   "execution_count": 26,
   "metadata": {
    "colab": {
     "base_uri": "https://localhost:8080/",
     "height": 157
    },
    "colab_type": "code",
    "id": "yx6C-gh8392d",
    "outputId": "a15e95e0-a8ba-47d3-b34a-4835aa7c58e8",
    "scrolled": true
   },
   "outputs": [
    {
     "name": "stdout",
     "output_type": "stream",
     "text": [
      "Rows in Twitter Dataset:  4060103\n"
     ]
    },
    {
     "data": {
      "text/plain": [
       "0    Tips on how to make employees work from home more effectively https://t.co/q1y81MiFpX #LuzonLockdown #COVID19                                                                                                                                                                                                     \n",
       "1    While working from home you can get in a better state of mind if you get out of your pajamas,  brush your hair and teeth , and structure your work area #WorkFromHome #CoronaVirusChallenge #COVID19 https://t.co/A0YqSH2WoR                                                                                      \n",
       "2    We’ve been closely monitoring the unfolding #COVID19 (#coronavirus) outbreak.\\n\\nFollowing guidance from @CDCgov and @WHO regarding crowds and air travel, #AIDSWatch is going digital this year.\\n\\nVisit https://t.co/CNkFDF8BDM for updates and to register to join us online March 30. https://t.co/7SDTwaHYxb\n",
       "3    Today the Church celebrates the Solemnity of St. Joseph. The #CatholicBishopsofPeninsularMalaysia dedicated this day as a day of prayer and fasting to invoke St. Joseph’s intercession &amp; God’s intervention for an end to #COVID19 crisis.\\n\\n#StJoseph #PrayForUs #asayokl #archkl https://t.co/Lv3bb0FguK  \n",
       "4    Here are the latest news about #COVID19 around the world. \\n\\nhttps://t.co/KpHUlvgTCr                                                                                                                                                                                                                             \n",
       "Name: Tweet, dtype: object"
      ]
     },
     "execution_count": 26,
     "metadata": {},
     "output_type": "execute_result"
    }
   ],
   "source": [
    "COVID_Sentiment = COVID_Tweets_copy[COVID_Tweets['Language'] == 'en'].reset_index()['Tweet']\n",
    "print('Rows in Twitter Dataset: ', len(COVID_Sentiment))\n",
    "COVID_Sentiment.head()"
   ]
  },
  {
   "cell_type": "markdown",
   "metadata": {},
   "source": [
    "### Removing Nonessential Text from the Tweets in the Dataset\n",
    "\n",
    "Here we will remove the nonessential text within the dataset that hold no and act as additional information not necessary during the sentiment analysis."
   ]
  },
  {
   "cell_type": "markdown",
   "metadata": {
    "colab_type": "text",
    "id": "W9pOmRok6hpU"
   },
   "source": [
    "Removing the URLs from the *Tweets*"
   ]
  },
  {
   "cell_type": "code",
   "execution_count": 27,
   "metadata": {
    "colab": {},
    "colab_type": "code",
    "id": "tly-GdGK1igD"
   },
   "outputs": [],
   "source": [
    "COVID_Sentiment_url = COVID_Sentiment.apply(lambda x: re.sub(r\"https\\S+\", \"\", x))"
   ]
  },
  {
   "cell_type": "markdown",
   "metadata": {
    "colab_type": "text",
    "id": "xJRbm9vr6sk7"
   },
   "source": [
    "Changing the tweets to lowercase to allow readibility in our code"
   ]
  },
  {
   "cell_type": "code",
   "execution_count": 28,
   "metadata": {
    "colab": {},
    "colab_type": "code",
    "id": "twEtZh-V1inS"
   },
   "outputs": [],
   "source": [
    "COVID_Sentiment_lwr = COVID_Sentiment_url.apply(lambda x: x.lower())"
   ]
  },
  {
   "cell_type": "markdown",
   "metadata": {
    "colab_type": "text",
    "id": "CYrdkIK97AQd"
   },
   "source": [
    "Removing punctuation"
   ]
  },
  {
   "cell_type": "code",
   "execution_count": 29,
   "metadata": {
    "colab": {},
    "colab_type": "code",
    "id": "fMMaErsE1itL"
   },
   "outputs": [],
   "source": [
    "COVID_Sentiment_punc = COVID_Sentiment_lwr.apply(lambda x: x.translate(str.maketrans('', '', string.punctuation)))"
   ]
  },
  {
   "cell_type": "markdown",
   "metadata": {
    "colab_type": "text",
    "id": "kk8R209T7SHB"
   },
   "source": [
    "Removing Stopwords \n",
    "\n",
    "We removed the stopwords (and, but, it, etc) and hashtags for the sentiment analysis since they hold no value."
   ]
  },
  {
   "cell_type": "code",
   "execution_count": 30,
   "metadata": {
    "colab": {},
    "colab_type": "code",
    "id": "-B-e6M0N1i1e"
   },
   "outputs": [],
   "source": [
    "stop_words = set(stopwords.words('english'))\n",
    "stop_words.update(['#coronavirus', '#coronavirusoutbreak', '#coronavirusPandemic', '#covid','#stayathome', '#washyourhands', '#workfromhome'])"
   ]
  },
  {
   "cell_type": "markdown",
   "metadata": {
    "colab_type": "text",
    "id": "vICuMhpe8j0f"
   },
   "source": [
    "Concatenate tweet into a list of words to run through our machine learning models"
   ]
  },
  {
   "cell_type": "code",
   "execution_count": 31,
   "metadata": {
    "colab": {
     "base_uri": "https://localhost:8080/",
     "height": 242
    },
    "colab_type": "code",
    "id": "KIZCVnN41umF",
    "outputId": "191ab526-63d0-4b1a-88b5-cd6715091a89"
   },
   "outputs": [
    {
     "data": {
      "text/plain": [
       "0    tips make employees work home effectively luzonlockdown covid19                                                                                                                                                             \n",
       "1    working home get better state mind get pajamas brush hair teeth structure work area workfromhome coronaviruschallenge covid19                                                                                               \n",
       "2    we’ve closely monitoring unfolding covid19 coronavirus outbreak following guidance cdcgov regarding crowds air travel aidswatch going digital year visit updates register join us online march 30                           \n",
       "3    today church celebrates solemnity st joseph catholicbishopsofpeninsularmalaysia dedicated day day prayer fasting invoke st joseph’s intercession amp god’s intervention end covid19 crisis stjoseph prayforus asayokl archkl\n",
       "4    latest news covid19 around world                                                                                                                                                                                            \n",
       "Name: Tweet, dtype: object"
      ]
     },
     "execution_count": 31,
     "metadata": {},
     "output_type": "execute_result"
    }
   ],
   "source": [
    "COVID_Sentiment_wrds = COVID_Sentiment_punc.apply(lambda x: ' '.join([word for word in x.split() if word not in stop_words]))\n",
    "COVID_Sentiment_wrds.head()"
   ]
  },
  {
   "cell_type": "code",
   "execution_count": 32,
   "metadata": {
    "colab": {
     "base_uri": "https://localhost:8080/",
     "height": 34
    },
    "colab_type": "code",
    "id": "Aa2Eu1Js392g",
    "outputId": "6a4e5d2e-6777-4651-f54b-18ce795c6e3b"
   },
   "outputs": [
    {
     "data": {
      "text/plain": [
       "['tips', 'make', 'employees', 'work', 'home']"
      ]
     },
     "execution_count": 32,
     "metadata": {},
     "output_type": "execute_result"
    }
   ],
   "source": [
    "COVID_Sentiment_concat = [word for line in COVID_Sentiment_wrds for word in line.split()]\n",
    "COVID_Sentiment_concat[:5]"
   ]
  },
  {
   "cell_type": "markdown",
   "metadata": {},
   "source": [
    "Here we can view the text processing and preperation that we have made to analyze the dataset"
   ]
  },
  {
   "cell_type": "code",
   "execution_count": 33,
   "metadata": {},
   "outputs": [],
   "source": [
    "COVID_Text = pd.DataFrame(COVID_Sentiment)\n",
    "COVID_Text['Text Processed'] = pd.DataFrame(COVID_Sentiment_wrds)\n"
   ]
  },
  {
   "cell_type": "markdown",
   "metadata": {},
   "source": [
    "### Term Frequency"
   ]
  },
  {
   "cell_type": "markdown",
   "metadata": {
    "colab_type": "text",
    "id": "-y8tgby_9QCu"
   },
   "source": [
    "Counting and listing the Top 20 terms and their frequency"
   ]
  },
  {
   "cell_type": "code",
   "execution_count": 34,
   "metadata": {
    "colab": {
     "base_uri": "https://localhost:8080/",
     "height": 664
    },
    "colab_type": "code",
    "id": "ZMZBVOu0392j",
    "outputId": "40b942b1-82b3-4110-cf0d-d1062a1be041",
    "scrolled": false
   },
   "outputs": [
    {
     "data": {
      "text/html": [
       "<div>\n",
       "<style scoped>\n",
       "    .dataframe tbody tr th:only-of-type {\n",
       "        vertical-align: middle;\n",
       "    }\n",
       "\n",
       "    .dataframe tbody tr th {\n",
       "        vertical-align: top;\n",
       "    }\n",
       "\n",
       "    .dataframe thead th {\n",
       "        text-align: right;\n",
       "    }\n",
       "</style>\n",
       "<table border=\"1\" class=\"dataframe\">\n",
       "  <thead>\n",
       "    <tr style=\"text-align: right;\">\n",
       "      <th></th>\n",
       "      <th>Term</th>\n",
       "      <th>Frequency</th>\n",
       "    </tr>\n",
       "  </thead>\n",
       "  <tbody>\n",
       "    <tr>\n",
       "      <td>0</td>\n",
       "      <td>covid19</td>\n",
       "      <td>2414059</td>\n",
       "    </tr>\n",
       "    <tr>\n",
       "      <td>1</td>\n",
       "      <td>coronavirus</td>\n",
       "      <td>2305140</td>\n",
       "    </tr>\n",
       "    <tr>\n",
       "      <td>2</td>\n",
       "      <td>people</td>\n",
       "      <td>437533</td>\n",
       "    </tr>\n",
       "    <tr>\n",
       "      <td>3</td>\n",
       "      <td>amp</td>\n",
       "      <td>416709</td>\n",
       "    </tr>\n",
       "    <tr>\n",
       "      <td>4</td>\n",
       "      <td>coronaviruspandemic</td>\n",
       "      <td>306772</td>\n",
       "    </tr>\n",
       "    <tr>\n",
       "      <td>5</td>\n",
       "      <td>us</td>\n",
       "      <td>299216</td>\n",
       "    </tr>\n",
       "    <tr>\n",
       "      <td>6</td>\n",
       "      <td>cases</td>\n",
       "      <td>248228</td>\n",
       "    </tr>\n",
       "    <tr>\n",
       "      <td>7</td>\n",
       "      <td>home</td>\n",
       "      <td>222675</td>\n",
       "    </tr>\n",
       "    <tr>\n",
       "      <td>8</td>\n",
       "      <td>pandemic</td>\n",
       "      <td>212785</td>\n",
       "    </tr>\n",
       "    <tr>\n",
       "      <td>9</td>\n",
       "      <td>new</td>\n",
       "      <td>209089</td>\n",
       "    </tr>\n",
       "    <tr>\n",
       "      <td>10</td>\n",
       "      <td>time</td>\n",
       "      <td>208850</td>\n",
       "    </tr>\n",
       "    <tr>\n",
       "      <td>11</td>\n",
       "      <td>help</td>\n",
       "      <td>206447</td>\n",
       "    </tr>\n",
       "    <tr>\n",
       "      <td>12</td>\n",
       "      <td>get</td>\n",
       "      <td>204679</td>\n",
       "    </tr>\n",
       "    <tr>\n",
       "      <td>13</td>\n",
       "      <td>stay</td>\n",
       "      <td>204013</td>\n",
       "    </tr>\n",
       "    <tr>\n",
       "      <td>14</td>\n",
       "      <td>need</td>\n",
       "      <td>193322</td>\n",
       "    </tr>\n",
       "    <tr>\n",
       "      <td>15</td>\n",
       "      <td>like</td>\n",
       "      <td>186534</td>\n",
       "    </tr>\n",
       "    <tr>\n",
       "      <td>16</td>\n",
       "      <td>one</td>\n",
       "      <td>170426</td>\n",
       "    </tr>\n",
       "    <tr>\n",
       "      <td>17</td>\n",
       "      <td>please</td>\n",
       "      <td>168090</td>\n",
       "    </tr>\n",
       "    <tr>\n",
       "      <td>18</td>\n",
       "      <td>virus</td>\n",
       "      <td>165250</td>\n",
       "    </tr>\n",
       "    <tr>\n",
       "      <td>19</td>\n",
       "      <td>coronavirusoutbreak</td>\n",
       "      <td>164936</td>\n",
       "    </tr>\n",
       "  </tbody>\n",
       "</table>\n",
       "</div>"
      ],
      "text/plain": [
       "                   Term  Frequency\n",
       "0   covid19              2414059  \n",
       "1   coronavirus          2305140  \n",
       "2   people               437533   \n",
       "3   amp                  416709   \n",
       "4   coronaviruspandemic  306772   \n",
       "5   us                   299216   \n",
       "6   cases                248228   \n",
       "7   home                 222675   \n",
       "8   pandemic             212785   \n",
       "9   new                  209089   \n",
       "10  time                 208850   \n",
       "11  help                 206447   \n",
       "12  get                  204679   \n",
       "13  stay                 204013   \n",
       "14  need                 193322   \n",
       "15  like                 186534   \n",
       "16  one                  170426   \n",
       "17  please               168090   \n",
       "18  virus                165250   \n",
       "19  coronavirusoutbreak  164936   "
      ]
     },
     "execution_count": 34,
     "metadata": {},
     "output_type": "execute_result"
    }
   ],
   "source": [
    "counts = Counter(COVID_Sentiment_concat).most_common(20)\n",
    "COVID_Sentiment_count = pd.DataFrame(counts)\n",
    "COVID_Sentiment_count.columns = ['Term', 'Frequency']\n",
    "\n",
    "COVID_Sentiment_count\n"
   ]
  },
  {
   "cell_type": "markdown",
   "metadata": {
    "colab_type": "text",
    "id": "ZQnasXYE96ww"
   },
   "source": [
    "Creating a wordcloud to visualize of the top 20 terms in the Twitter dataset"
   ]
  },
  {
   "cell_type": "code",
   "execution_count": 35,
   "metadata": {
    "colab": {
     "base_uri": "https://localhost:8080/",
     "height": 319
    },
    "colab_type": "code",
    "id": "k8Xitky-392l",
    "outputId": "8d9f0ec5-4f24-43e1-d7a1-0b482c91b49c"
   },
   "outputs": [
    {
     "data": {
      "image/png": "[encoded data removed]",
      "text/plain": [
       "<Figure size 576x576 with 1 Axes>"
      ]
     },
     "metadata": {
      "needs_background": "light"
     },
     "output_type": "display_data"
    }
   ],
   "source": [
    "wordcloud = WordCloud(\n",
    "    background_color='black',\n",
    "    max_words=20,\n",
    "    max_font_size=40, \n",
    "    scale=5,\n",
    "    random_state=1,\n",
    "    collocations=False,\n",
    "    normalize_plurals=False\n",
    ").generate(' '.join(COVID_Sentiment_concat))\n",
    "\n",
    "\n",
    "plt.figure(figsize = (8, 8), facecolor = None)\n",
    "plt.imshow(wordcloud)\n",
    "plt.axis(\"off\")\n",
    "plt.tight_layout(pad = 0)\n"
   ]
  },
  {
   "cell_type": "markdown",
   "metadata": {
    "colab_type": "text",
    "id": "DwR8piNW392d"
   },
   "source": [
    "## Sentiment Analysis"
   ]
  },
  {
   "cell_type": "markdown",
   "metadata": {
    "colab_type": "text",
    "id": "NDRkTmI6-Tt3"
   },
   "source": [
    "### Calculating the polarity score for each tweet. \n",
    "\n",
    "The code will analyze each tweet in the data frame and return a predicted value/score for each sentiment positive/negative/neutral. \n"
   ]
  },
  {
   "cell_type": "code",
   "execution_count": 36,
   "metadata": {
    "colab": {},
    "colab_type": "code",
    "id": "E2y-nqln392o"
   },
   "outputs": [
    {
     "data": {
      "text/html": [
       "<div>\n",
       "<style scoped>\n",
       "    .dataframe tbody tr th:only-of-type {\n",
       "        vertical-align: middle;\n",
       "    }\n",
       "\n",
       "    .dataframe tbody tr th {\n",
       "        vertical-align: top;\n",
       "    }\n",
       "\n",
       "    .dataframe thead th {\n",
       "        text-align: right;\n",
       "    }\n",
       "</style>\n",
       "<table border=\"1\" class=\"dataframe\">\n",
       "  <thead>\n",
       "    <tr style=\"text-align: right;\">\n",
       "      <th></th>\n",
       "      <th>neg</th>\n",
       "      <th>neu</th>\n",
       "      <th>pos</th>\n",
       "      <th>compound</th>\n",
       "    </tr>\n",
       "  </thead>\n",
       "  <tbody>\n",
       "    <tr>\n",
       "      <td>0</td>\n",
       "      <td>0.000</td>\n",
       "      <td>0.707</td>\n",
       "      <td>0.293</td>\n",
       "      <td>0.4404</td>\n",
       "    </tr>\n",
       "    <tr>\n",
       "      <td>1</td>\n",
       "      <td>0.000</td>\n",
       "      <td>0.847</td>\n",
       "      <td>0.153</td>\n",
       "      <td>0.4404</td>\n",
       "    </tr>\n",
       "    <tr>\n",
       "      <td>2</td>\n",
       "      <td>0.000</td>\n",
       "      <td>0.919</td>\n",
       "      <td>0.081</td>\n",
       "      <td>0.2960</td>\n",
       "    </tr>\n",
       "    <tr>\n",
       "      <td>3</td>\n",
       "      <td>0.178</td>\n",
       "      <td>0.630</td>\n",
       "      <td>0.192</td>\n",
       "      <td>0.1280</td>\n",
       "    </tr>\n",
       "    <tr>\n",
       "      <td>4</td>\n",
       "      <td>0.000</td>\n",
       "      <td>1.000</td>\n",
       "      <td>0.000</td>\n",
       "      <td>0.0000</td>\n",
       "    </tr>\n",
       "  </tbody>\n",
       "</table>\n",
       "</div>"
      ],
      "text/plain": [
       "     neg    neu    pos  compound\n",
       "0  0.000  0.707  0.293  0.4404  \n",
       "1  0.000  0.847  0.153  0.4404  \n",
       "2  0.000  0.919  0.081  0.2960  \n",
       "3  0.178  0.630  0.192  0.1280  \n",
       "4  0.000  1.000  0.000  0.0000  "
      ]
     },
     "execution_count": 36,
     "metadata": {},
     "output_type": "execute_result"
    }
   ],
   "source": [
    "sid = SentimentIntensityAnalyzer()\n",
    "COVID_Sentiment_polarity = COVID_Sentiment_wrds.apply(lambda x: sid.polarity_scores(x))\n",
    "COVID_Sentiment_scores = pd.DataFrame(list(COVID_Sentiment_polarity))\n",
    "COVID_Sentiment_scores.head()"
   ]
  },
  {
   "cell_type": "markdown",
   "metadata": {
    "colab_type": "text",
    "id": "ZmmQfC0mAwns"
   },
   "source": [
    "Determining the sentiment of tweets based on their compound and polarity scores."
   ]
  },
  {
   "cell_type": "code",
   "execution_count": 37,
   "metadata": {
    "colab": {},
    "colab_type": "code",
    "id": "s6wt-0hB392r"
   },
   "outputs": [
    {
     "data": {
      "text/html": [
       "<div>\n",
       "<style scoped>\n",
       "    .dataframe tbody tr th:only-of-type {\n",
       "        vertical-align: middle;\n",
       "    }\n",
       "\n",
       "    .dataframe tbody tr th {\n",
       "        vertical-align: top;\n",
       "    }\n",
       "\n",
       "    .dataframe thead th {\n",
       "        text-align: right;\n",
       "    }\n",
       "</style>\n",
       "<table border=\"1\" class=\"dataframe\">\n",
       "  <thead>\n",
       "    <tr style=\"text-align: right;\">\n",
       "      <th></th>\n",
       "      <th>neg</th>\n",
       "      <th>neu</th>\n",
       "      <th>pos</th>\n",
       "      <th>compound</th>\n",
       "      <th>sentiment</th>\n",
       "    </tr>\n",
       "  </thead>\n",
       "  <tbody>\n",
       "    <tr>\n",
       "      <td>0</td>\n",
       "      <td>0.000</td>\n",
       "      <td>0.707</td>\n",
       "      <td>0.293</td>\n",
       "      <td>0.4404</td>\n",
       "      <td>positive</td>\n",
       "    </tr>\n",
       "    <tr>\n",
       "      <td>1</td>\n",
       "      <td>0.000</td>\n",
       "      <td>0.847</td>\n",
       "      <td>0.153</td>\n",
       "      <td>0.4404</td>\n",
       "      <td>positive</td>\n",
       "    </tr>\n",
       "    <tr>\n",
       "      <td>2</td>\n",
       "      <td>0.000</td>\n",
       "      <td>0.919</td>\n",
       "      <td>0.081</td>\n",
       "      <td>0.2960</td>\n",
       "      <td>positive</td>\n",
       "    </tr>\n",
       "    <tr>\n",
       "      <td>3</td>\n",
       "      <td>0.178</td>\n",
       "      <td>0.630</td>\n",
       "      <td>0.192</td>\n",
       "      <td>0.1280</td>\n",
       "      <td>positive</td>\n",
       "    </tr>\n",
       "    <tr>\n",
       "      <td>4</td>\n",
       "      <td>0.000</td>\n",
       "      <td>1.000</td>\n",
       "      <td>0.000</td>\n",
       "      <td>0.0000</td>\n",
       "      <td>neutral</td>\n",
       "    </tr>\n",
       "  </tbody>\n",
       "</table>\n",
       "</div>"
      ],
      "text/plain": [
       "     neg    neu    pos  compound sentiment\n",
       "0  0.000  0.707  0.293  0.4404    positive\n",
       "1  0.000  0.847  0.153  0.4404    positive\n",
       "2  0.000  0.919  0.081  0.2960    positive\n",
       "3  0.178  0.630  0.192  0.1280    positive\n",
       "4  0.000  1.000  0.000  0.0000    neutral "
      ]
     },
     "execution_count": 37,
     "metadata": {},
     "output_type": "execute_result"
    }
   ],
   "source": [
    "COVID_Sentiment_scores['sentiment'] = COVID_Sentiment_scores['compound'].apply(lambda x: 'neutral' if x == 0 else ('positive' if x > 0 else 'negative'))\n",
    "COVID_Sentiment_scores.head()"
   ]
  },
  {
   "cell_type": "markdown",
   "metadata": {},
   "source": [
    "Calculating the quantitiy of tweets by sentiment"
   ]
  },
  {
   "cell_type": "code",
   "execution_count": 38,
   "metadata": {
    "colab": {},
    "colab_type": "code",
    "id": "pwuanvKt392u"
   },
   "outputs": [
    {
     "data": {
      "text/html": [
       "<div>\n",
       "<style scoped>\n",
       "    .dataframe tbody tr th:only-of-type {\n",
       "        vertical-align: middle;\n",
       "    }\n",
       "\n",
       "    .dataframe tbody tr th {\n",
       "        vertical-align: top;\n",
       "    }\n",
       "\n",
       "    .dataframe thead th {\n",
       "        text-align: right;\n",
       "    }\n",
       "</style>\n",
       "<table border=\"1\" class=\"dataframe\">\n",
       "  <thead>\n",
       "    <tr style=\"text-align: right;\">\n",
       "      <th></th>\n",
       "      <th>sentiment</th>\n",
       "      <th>count</th>\n",
       "      <th>%</th>\n",
       "    </tr>\n",
       "  </thead>\n",
       "  <tbody>\n",
       "    <tr>\n",
       "      <td>0</td>\n",
       "      <td>positive</td>\n",
       "      <td>1899249</td>\n",
       "      <td>0.47</td>\n",
       "    </tr>\n",
       "    <tr>\n",
       "      <td>2</td>\n",
       "      <td>negative</td>\n",
       "      <td>1257821</td>\n",
       "      <td>0.31</td>\n",
       "    </tr>\n",
       "    <tr>\n",
       "      <td>1</td>\n",
       "      <td>neutral</td>\n",
       "      <td>903033</td>\n",
       "      <td>0.22</td>\n",
       "    </tr>\n",
       "  </tbody>\n",
       "</table>\n",
       "</div>"
      ],
      "text/plain": [
       "  sentiment    count     %\n",
       "0  positive  1899249  0.47\n",
       "2  negative  1257821  0.31\n",
       "1  neutral   903033   0.22"
      ]
     },
     "execution_count": 38,
     "metadata": {},
     "output_type": "execute_result"
    }
   ],
   "source": [
    "COVID_Sentiment_plt = pd.DataFrame.from_dict(Counter(COVID_Sentiment_scores['sentiment']), orient = 'index').reset_index()\n",
    "COVID_Sentiment_plt.columns = ['sentiment', 'count']\n",
    "\n",
    "COVID_Sentiment_plt['%'] = (COVID_Sentiment_plt['count']/COVID_Sentiment_plt['count'].sum()).round(2)\n",
    "COVID_Sentiment_plt.sort_values('%', ascending=False)"
   ]
  },
  {
   "cell_type": "markdown",
   "metadata": {
    "colab_type": "text",
    "id": "65FETCweFFC9"
   },
   "source": [
    "Creating a data frame of tweets with processed text and the determined sentiment value"
   ]
  },
  {
   "cell_type": "code",
   "execution_count": 43,
   "metadata": {
    "colab": {},
    "colab_type": "code",
    "id": "m8wEkO-u392x",
    "scrolled": true
   },
   "outputs": [
    {
     "data": {
      "text/html": [
       "<div>\n",
       "<style scoped>\n",
       "    .dataframe tbody tr th:only-of-type {\n",
       "        vertical-align: middle;\n",
       "    }\n",
       "\n",
       "    .dataframe tbody tr th {\n",
       "        vertical-align: top;\n",
       "    }\n",
       "\n",
       "    .dataframe thead th {\n",
       "        text-align: right;\n",
       "    }\n",
       "</style>\n",
       "<table border=\"1\" class=\"dataframe\">\n",
       "  <thead>\n",
       "    <tr style=\"text-align: right;\">\n",
       "      <th></th>\n",
       "      <th>Tweet</th>\n",
       "      <th>Text Processed</th>\n",
       "      <th>Sentiment</th>\n",
       "    </tr>\n",
       "  </thead>\n",
       "  <tbody>\n",
       "    <tr>\n",
       "      <td>0</td>\n",
       "      <td>Tips on how to make employees work from home more effectively https://t.co/q1y81MiFpX #LuzonLockdown #COVID19</td>\n",
       "      <td>tips make employees work home effectively luzonlockdown covid19</td>\n",
       "      <td>positive</td>\n",
       "    </tr>\n",
       "    <tr>\n",
       "      <td>1</td>\n",
       "      <td>While working from home you can get in a better state of mind if you get out of your pajamas,  brush your hair and teeth , and structure your work area #WorkFromHome #CoronaVirusChallenge #COVID19 https://t.co/A0YqSH2WoR</td>\n",
       "      <td>working home get better state mind get pajamas brush hair teeth structure work area workfromhome coronaviruschallenge covid19</td>\n",
       "      <td>positive</td>\n",
       "    </tr>\n",
       "    <tr>\n",
       "      <td>2</td>\n",
       "      <td>We’ve been closely monitoring the unfolding #COVID19 (#coronavirus) outbreak.\\n\\nFollowing guidance from @CDCgov and @WHO regarding crowds and air travel, #AIDSWatch is going digital this year.\\n\\nVisit https://t.co/CNkFDF8BDM for updates and to register to join us online March 30. https://t.co/7SDTwaHYxb</td>\n",
       "      <td>we’ve closely monitoring unfolding covid19 coronavirus outbreak following guidance cdcgov regarding crowds air travel aidswatch going digital year visit updates register join us online march 30</td>\n",
       "      <td>positive</td>\n",
       "    </tr>\n",
       "    <tr>\n",
       "      <td>3</td>\n",
       "      <td>Today the Church celebrates the Solemnity of St. Joseph. The #CatholicBishopsofPeninsularMalaysia dedicated this day as a day of prayer and fasting to invoke St. Joseph’s intercession &amp;amp; God’s intervention for an end to #COVID19 crisis.\\n\\n#StJoseph #PrayForUs #asayokl #archkl https://t.co/Lv3bb0FguK</td>\n",
       "      <td>today church celebrates solemnity st joseph catholicbishopsofpeninsularmalaysia dedicated day day prayer fasting invoke st joseph’s intercession amp god’s intervention end covid19 crisis stjoseph prayforus asayokl archkl</td>\n",
       "      <td>positive</td>\n",
       "    </tr>\n",
       "    <tr>\n",
       "      <td>4</td>\n",
       "      <td>Here are the latest news about #COVID19 around the world. \\n\\nhttps://t.co/KpHUlvgTCr</td>\n",
       "      <td>latest news covid19 around world</td>\n",
       "      <td>neutral</td>\n",
       "    </tr>\n",
       "  </tbody>\n",
       "</table>\n",
       "</div>"
      ],
      "text/plain": [
       "                                                                                                                                                                                                                                                                                                                Tweet  \\\n",
       "0  Tips on how to make employees work from home more effectively https://t.co/q1y81MiFpX #LuzonLockdown #COVID19                                                                                                                                                                                                        \n",
       "1  While working from home you can get in a better state of mind if you get out of your pajamas,  brush your hair and teeth , and structure your work area #WorkFromHome #CoronaVirusChallenge #COVID19 https://t.co/A0YqSH2WoR                                                                                         \n",
       "2  We’ve been closely monitoring the unfolding #COVID19 (#coronavirus) outbreak.\\n\\nFollowing guidance from @CDCgov and @WHO regarding crowds and air travel, #AIDSWatch is going digital this year.\\n\\nVisit https://t.co/CNkFDF8BDM for updates and to register to join us online March 30. https://t.co/7SDTwaHYxb   \n",
       "3  Today the Church celebrates the Solemnity of St. Joseph. The #CatholicBishopsofPeninsularMalaysia dedicated this day as a day of prayer and fasting to invoke St. Joseph’s intercession &amp; God’s intervention for an end to #COVID19 crisis.\\n\\n#StJoseph #PrayForUs #asayokl #archkl https://t.co/Lv3bb0FguK     \n",
       "4  Here are the latest news about #COVID19 around the world. \\n\\nhttps://t.co/KpHUlvgTCr                                                                                                                                                                                                                                \n",
       "\n",
       "                                                                                                                                                                                                                 Text Processed  \\\n",
       "0  tips make employees work home effectively luzonlockdown covid19                                                                                                                                                                \n",
       "1  working home get better state mind get pajamas brush hair teeth structure work area workfromhome coronaviruschallenge covid19                                                                                                  \n",
       "2  we’ve closely monitoring unfolding covid19 coronavirus outbreak following guidance cdcgov regarding crowds air travel aidswatch going digital year visit updates register join us online march 30                              \n",
       "3  today church celebrates solemnity st joseph catholicbishopsofpeninsularmalaysia dedicated day day prayer fasting invoke st joseph’s intercession amp god’s intervention end covid19 crisis stjoseph prayforus asayokl archkl   \n",
       "4  latest news covid19 around world                                                                                                                                                                                               \n",
       "\n",
       "  Sentiment  \n",
       "0  positive  \n",
       "1  positive  \n",
       "2  positive  \n",
       "3  positive  \n",
       "4  neutral   "
      ]
     },
     "execution_count": 43,
     "metadata": {},
     "output_type": "execute_result"
    }
   ],
   "source": [
    "COVID_Text['Sentiment'] = COVID_Sentiment_scores['sentiment']\n",
    "COVID_Text.head(5)"
   ]
  },
  {
   "cell_type": "markdown",
   "metadata": {
    "colab": {},
    "colab_type": "code",
    "id": "AGIh6tin3922"
   },
   "source": [
    "List of positive tweets and the positive sentiment values"
   ]
  },
  {
   "cell_type": "code",
   "execution_count": 44,
   "metadata": {
    "scrolled": true
   },
   "outputs": [
    {
     "name": "stdout",
     "output_type": "stream",
     "text": [
      "(1899249, 3)\n"
     ]
    },
    {
     "data": {
      "text/html": [
       "<div>\n",
       "<style scoped>\n",
       "    .dataframe tbody tr th:only-of-type {\n",
       "        vertical-align: middle;\n",
       "    }\n",
       "\n",
       "    .dataframe tbody tr th {\n",
       "        vertical-align: top;\n",
       "    }\n",
       "\n",
       "    .dataframe thead th {\n",
       "        text-align: right;\n",
       "    }\n",
       "</style>\n",
       "<table border=\"1\" class=\"dataframe\">\n",
       "  <thead>\n",
       "    <tr style=\"text-align: right;\">\n",
       "      <th></th>\n",
       "      <th>Tweet</th>\n",
       "      <th>Sentiment</th>\n",
       "    </tr>\n",
       "  </thead>\n",
       "  <tbody>\n",
       "    <tr>\n",
       "      <td>0</td>\n",
       "      <td>Tips on how to make employees work from home more effectively https://t.co/q1y81MiFpX #LuzonLockdown #COVID19</td>\n",
       "      <td>positive</td>\n",
       "    </tr>\n",
       "    <tr>\n",
       "      <td>1</td>\n",
       "      <td>While working from home you can get in a better state of mind if you get out of your pajamas,  brush your hair and teeth , and structure your work area #WorkFromHome #CoronaVirusChallenge #COVID19 https://t.co/A0YqSH2WoR</td>\n",
       "      <td>positive</td>\n",
       "    </tr>\n",
       "    <tr>\n",
       "      <td>2</td>\n",
       "      <td>We’ve been closely monitoring the unfolding #COVID19 (#coronavirus) outbreak.\\n\\nFollowing guidance from @CDCgov and @WHO regarding crowds and air travel, #AIDSWatch is going digital this year.\\n\\nVisit https://t.co/CNkFDF8BDM for updates and to register to join us online March 30. https://t.co/7SDTwaHYxb</td>\n",
       "      <td>positive</td>\n",
       "    </tr>\n",
       "    <tr>\n",
       "      <td>3</td>\n",
       "      <td>Today the Church celebrates the Solemnity of St. Joseph. The #CatholicBishopsofPeninsularMalaysia dedicated this day as a day of prayer and fasting to invoke St. Joseph’s intercession &amp;amp; God’s intervention for an end to #COVID19 crisis.\\n\\n#StJoseph #PrayForUs #asayokl #archkl https://t.co/Lv3bb0FguK</td>\n",
       "      <td>positive</td>\n",
       "    </tr>\n",
       "    <tr>\n",
       "      <td>5</td>\n",
       "      <td>What powers do the president and governors have in the US to manage the #COVID19 pandemic? And how should individual rights be balanced w public health at a when safeguarding the nation’s health? @LawrenceGostin responds https://t.co/TEG2cqfR37</td>\n",
       "      <td>positive</td>\n",
       "    </tr>\n",
       "  </tbody>\n",
       "</table>\n",
       "</div>"
      ],
      "text/plain": [
       "                                                                                                                                                                                                                                                                                                                Tweet  \\\n",
       "0  Tips on how to make employees work from home more effectively https://t.co/q1y81MiFpX #LuzonLockdown #COVID19                                                                                                                                                                                                        \n",
       "1  While working from home you can get in a better state of mind if you get out of your pajamas,  brush your hair and teeth , and structure your work area #WorkFromHome #CoronaVirusChallenge #COVID19 https://t.co/A0YqSH2WoR                                                                                         \n",
       "2  We’ve been closely monitoring the unfolding #COVID19 (#coronavirus) outbreak.\\n\\nFollowing guidance from @CDCgov and @WHO regarding crowds and air travel, #AIDSWatch is going digital this year.\\n\\nVisit https://t.co/CNkFDF8BDM for updates and to register to join us online March 30. https://t.co/7SDTwaHYxb   \n",
       "3  Today the Church celebrates the Solemnity of St. Joseph. The #CatholicBishopsofPeninsularMalaysia dedicated this day as a day of prayer and fasting to invoke St. Joseph’s intercession &amp; God’s intervention for an end to #COVID19 crisis.\\n\\n#StJoseph #PrayForUs #asayokl #archkl https://t.co/Lv3bb0FguK     \n",
       "5  What powers do the president and governors have in the US to manage the #COVID19 pandemic? And how should individual rights be balanced w public health at a when safeguarding the nation’s health? @LawrenceGostin responds https://t.co/TEG2cqfR37                                                                 \n",
       "\n",
       "  Sentiment  \n",
       "0  positive  \n",
       "1  positive  \n",
       "2  positive  \n",
       "3  positive  \n",
       "5  positive  "
      ]
     },
     "execution_count": 44,
     "metadata": {},
     "output_type": "execute_result"
    }
   ],
   "source": [
    "Positive_Tweets = COVID_Text[COVID_Text.Sentiment == 'positive']\n",
    "print(Positive_Tweets.shape)\n",
    "Positive_Tweets.loc[:,['Tweet','Sentiment']].head(5)"
   ]
  },
  {
   "cell_type": "markdown",
   "metadata": {},
   "source": [
    "List of negative tweets and the negative sentiment values"
   ]
  },
  {
   "cell_type": "code",
   "execution_count": 45,
   "metadata": {
    "scrolled": true
   },
   "outputs": [
    {
     "name": "stdout",
     "output_type": "stream",
     "text": [
      "(1257821, 3)\n"
     ]
    },
    {
     "data": {
      "text/html": [
       "<div>\n",
       "<style scoped>\n",
       "    .dataframe tbody tr th:only-of-type {\n",
       "        vertical-align: middle;\n",
       "    }\n",
       "\n",
       "    .dataframe tbody tr th {\n",
       "        vertical-align: top;\n",
       "    }\n",
       "\n",
       "    .dataframe thead th {\n",
       "        text-align: right;\n",
       "    }\n",
       "</style>\n",
       "<table border=\"1\" class=\"dataframe\">\n",
       "  <thead>\n",
       "    <tr style=\"text-align: right;\">\n",
       "      <th></th>\n",
       "      <th>Tweet</th>\n",
       "      <th>Sentiment</th>\n",
       "    </tr>\n",
       "  </thead>\n",
       "  <tbody>\n",
       "    <tr>\n",
       "      <td>6</td>\n",
       "      <td>Is your job affected by the #COVID19 outbreak? Or are you sick or have to care for a family member who is? \\nResources are available: \\n\\nUnemployment Insurance: https://t.co/LVUBTpgRDp \\n\\nPaid Family Leave: https://t.co/4leCSpnaKV https://t.co/6Md19IDBrc</td>\n",
       "      <td>negative</td>\n",
       "    </tr>\n",
       "    <tr>\n",
       "      <td>7</td>\n",
       "      <td>If you’re a small business or non-profit suffering substantial economic injury as a result of the #COVID19 public health emergency, please visit https://t.co/HzJd0T9YN0 for resources and guidance regarding @SBAgov economic injury loans, and how to apply. https://t.co/6A7t5rv8Yg</td>\n",
       "      <td>negative</td>\n",
       "    </tr>\n",
       "    <tr>\n",
       "      <td>20</td>\n",
       "      <td>Many Queenslanders are finding it harder to get their hands on toilet paper as supermarkets struggle to keep up with demand. https://t.co/tyIlL2iGra @annamcgraw_7 #coronavirus #7NEWS https://t.co/Qw70soj4Ht</td>\n",
       "      <td>negative</td>\n",
       "    </tr>\n",
       "    <tr>\n",
       "      <td>21</td>\n",
       "      <td>ERLENDSSON : \"This Is Just A Bizarre &amp;amp; Strange Situation\" - @Erik_Erlendsson \\n\\n@RonDiazWDAE @IanBeckles @jayRecher \\n\\n#GoBolts #NHL @NHL #Coronavirus #namethattune \\n\\nLISTEN \\nhttps://t.co/gLqWveVoYX</td>\n",
       "      <td>negative</td>\n",
       "    </tr>\n",
       "    <tr>\n",
       "      <td>22</td>\n",
       "      <td>Coronavirus shit fake. The government just want us all inside for 2 weeks so they can change the batteries in pigeons. #coronavirus</td>\n",
       "      <td>negative</td>\n",
       "    </tr>\n",
       "  </tbody>\n",
       "</table>\n",
       "</div>"
      ],
      "text/plain": [
       "                                                                                                                                                                                                                                                                                     Tweet  \\\n",
       "6   Is your job affected by the #COVID19 outbreak? Or are you sick or have to care for a family member who is? \\nResources are available: \\n\\nUnemployment Insurance: https://t.co/LVUBTpgRDp \\n\\nPaid Family Leave: https://t.co/4leCSpnaKV https://t.co/6Md19IDBrc                         \n",
       "7   If you’re a small business or non-profit suffering substantial economic injury as a result of the #COVID19 public health emergency, please visit https://t.co/HzJd0T9YN0 for resources and guidance regarding @SBAgov economic injury loans, and how to apply. https://t.co/6A7t5rv8Yg   \n",
       "20  Many Queenslanders are finding it harder to get their hands on toilet paper as supermarkets struggle to keep up with demand. https://t.co/tyIlL2iGra @annamcgraw_7 #coronavirus #7NEWS https://t.co/Qw70soj4Ht                                                                           \n",
       "21  ERLENDSSON : \"This Is Just A Bizarre &amp; Strange Situation\" - @Erik_Erlendsson \\n\\n@RonDiazWDAE @IanBeckles @jayRecher \\n\\n#GoBolts #NHL @NHL #Coronavirus #namethattune \\n\\nLISTEN \\nhttps://t.co/gLqWveVoYX                                                                          \n",
       "22  Coronavirus shit fake. The government just want us all inside for 2 weeks so they can change the batteries in pigeons. #coronavirus                                                                                                                                                      \n",
       "\n",
       "   Sentiment  \n",
       "6   negative  \n",
       "7   negative  \n",
       "20  negative  \n",
       "21  negative  \n",
       "22  negative  "
      ]
     },
     "execution_count": 45,
     "metadata": {},
     "output_type": "execute_result"
    }
   ],
   "source": [
    "Negative_Tweets = COVID_Text[COVID_Text.Sentiment == 'negative']\n",
    "print(Negative_Tweets.shape)\n",
    "Negative_Tweets.loc[:,['Tweet','Sentiment']].head(5)"
   ]
  },
  {
   "cell_type": "markdown",
   "metadata": {},
   "source": [
    "Bar chart visualization to compare the amount of positive/negative/neutral tweets. "
   ]
  },
  {
   "cell_type": "code",
   "execution_count": 42,
   "metadata": {},
   "outputs": [
    {
     "data": {
      "image/png": "[encoded data removed]",
      "text/plain": [
       "<Figure size 432x288 with 1 Axes>"
      ]
     },
     "metadata": {
      "needs_background": "light"
     },
     "output_type": "display_data"
    }
   ],
   "source": [
    "Sentiment_plt = sns.barplot(y=\"count\", x='sentiment',data=COVID_Sentiment_plt)\n",
    "Sentiment_plt.set_title('COVID-19 Tweet Amounts Separated by Sentiment\\n',fontsize=20)\n",
    "Sentiment_plt.set_xlabel('Sentiment Category',fontsize=16);\n",
    "Sentiment_plt.set_ylabel('Number of Tweets',fontsize=16);"
   ]
  }
 ],
 "metadata": {
  "accelerator": "GPU",
  "colab": {
   "collapsed_sections": [
    "u5YrjxazrKSr"
   ],
   "machine_shape": "hm",
   "name": "Stay At Home Twitter Analysis.ipynb",
   "provenance": []
  },
  "kernelspec": {
   "display_name": "Python 3",
   "language": "python",
   "name": "python3"
  },
  "language_info": {
   "codemirror_mode": {
    "name": "ipython",
    "version": 3
   },
   "file_extension": ".py",
   "mimetype": "text/x-python",
   "name": "python",
   "nbconvert_exporter": "python",
   "pygments_lexer": "ipython3",
   "version": "3.7.4"
  }
 },
 "nbformat": 4,
 "nbformat_minor": 1
}
